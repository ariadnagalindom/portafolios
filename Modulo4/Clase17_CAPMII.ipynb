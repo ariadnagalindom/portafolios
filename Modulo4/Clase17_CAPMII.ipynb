{
 "cells": [
  {
   "cell_type": "markdown",
   "metadata": {},
   "source": [
    "# Estimando $\\beta$ de los activos"
   ]
  },
  {
   "cell_type": "markdown",
   "metadata": {},
   "source": [
    "## <font color=blue> Evaluar el curso. </font>\n",
    "- [En este enlace](https://valoraccion.iteso.mx/)\n",
    "\n",
    "## <font color=green> Conclusiones de la lectura. </font>"
   ]
  },
  {
   "cell_type": "markdown",
   "metadata": {},
   "source": [
    "<img style=\"float: right; margin: 0px 0px 15px 15px;\" src=\"https://upload.wikimedia.org/wikipedia/commons/4/48/Capital_market_line_of_CAPM.svg\" width=\"400px\" height=\"400px\" />\n",
    "\n",
    "En la clase anterior aprendimos \n",
    "- ¿qué es el CAPM?; \n",
    "- ¿cuáles son los supuestos sobre los que se funda el CAPM?;\n",
    "- derivamos la fórmula del CAPM; y\n",
    "- aprendimos como obtener la $\\beta$ de un portafolio a partir de la $\\beta$ de activos individuales.\n",
    "\n",
    "En la clase de hoy estudiaremos una forma de estimar los $\\beta$ de activos individuales.\n",
    "\n",
    "**Objetivos:**\n",
    "- Revisitar riesgo sistemático y no sistemático.\n",
    "- Estudiar un método para estimar las $\\beta$ de los activos.\n",
    "\n",
    "*Referencia:*\n",
    "- Notas del curso \"Portfolio Selection and Risk Management\", Rice University, disponible en Coursera.\n",
    "- [Notas del curso \"Financial Engineering\", Columbia University](http://www.columbia.edu/~ks20/FE-Notes/FE-Notes-Sigman.html)\n",
    "___"
   ]
  },
  {
   "cell_type": "markdown",
   "metadata": {},
   "source": [
    "## 1. Riesgo sistemático y no sistemático."
   ]
  },
  {
   "cell_type": "markdown",
   "metadata": {},
   "source": [
    "Recordamos la fórmula de CAPM:\n",
    "\n",
    "$$E[r_i]-r_f=\\beta_i(E[r_M]-r_f),$$\n",
    "\n",
    "donde $\\beta_i=\\frac{\\sigma_{M,i}}{\\sigma_M^2}$ y $\\sigma_{M,i}$ es la covarianza del portafolio de mercado con el activo individual $i$."
   ]
  },
  {
   "cell_type": "markdown",
   "metadata": {},
   "source": [
    "Todas las anteriores son variables determinísiticas.\n",
    "\n",
    "- ¿Qué pasa si usamos el CAPM como un modelo de rendimientos? Es decir,\n",
    "\n",
    "$$r_i=r_f+\\beta_i(r_M-r_f)+\\epsilon_i,$$\n",
    "\n",
    "donde $\\epsilon_i$ es un término de error. (error asociado a la aproximación)"
   ]
  },
  {
   "cell_type": "markdown",
   "metadata": {},
   "source": [
    "<font color=green> Despejando $\\epsilon_i$, tenemos que: </font>\n",
    "\n",
    "- $E[\\epsilon_i]=0$, y\n",
    "\n",
    "    $E[r_f]=E[r_i -r_f -\\beta_i(r_M -r_f)]$\n",
    "    \n",
    "    $E[r_f]=E[r_i] -E[r_f] -\\beta_i(E[r_M] -E[r_f])$\n",
    "    \n",
    "    $donde E[r_f] = r_f$\n",
    "    \n",
    "    $E[r_f]=0$\n",
    "    \n",
    "    \n",
    "- $cov(\\epsilon_i,r_M)=0$.\n",
    "    \n",
    "    $cov(\\epsilon_i,r_M)=cov(r_i -r_f -\\beta_i(r_M -r_f), r_M)$\n",
    "    \n",
    "    $cov(\\epsilon_i,r_M)=cov(r_i -\\beta_i r_M, r_M)$\n",
    "    \n",
    "    $cov(\\epsilon_i,r_M)=cov(r_i,r_M) -\\beta_i cov(r_M -r_M)$\n",
    "    \n",
    "    $donde... r_i = r_f + \\beta_i(r_m -r_f)+\\epsilon_i$\n",
    "    \n",
    "    $$sustituyendo...$$\n",
    "    \n",
    "    $E[r_i]= E[r_i -r_f -\\beta_i(r_M -r_f)]=0$\n",
    "    \n",
    "    $var(r_i)=cov(r_i, r_i)$\n",
    "    \n",
    "    $var(r_i)=cov(r_f +\\beta_i(r_M -r_f)+\\epsilon_i, r_f+\\beta_i(r_M -r_f)+\\epsilon_i)$\n",
    "    \n",
    "    $var(r_i)=cov(\\beta_i r_M +\\epsilon_i , \\beta_i r_M + \\epsilon_i$\n",
    "     \n",
    "    $var(r_i)=\\beta_i^2 \\sigma_M^2 + 2\\beta_i cov(r_M, \\epsilon_i)+var(\\epsilon_i)$\n",
    "\n",
    "<font color=green> Ver en el tablero. </font>"
   ]
  },
  {
   "cell_type": "markdown",
   "metadata": {},
   "source": [
    "Entonces, la varianza del activo $i$ es:\n",
    "\n",
    "$$\\sigma_i^2=\\beta_i^2\\sigma_M^2+var(\\epsilon_i),$$\n",
    "\n",
    "donde el primer término corresponde al riesgo sistemático (de mercado) y el segundo al riesgo idiosincrático.\n",
    "___"
   ]
  },
  {
   "cell_type": "markdown",
   "metadata": {},
   "source": [
    "## 2. Estimando $\\beta$ para un activo."
   ]
  },
  {
   "cell_type": "markdown",
   "metadata": {},
   "source": [
    "- En el mercado real, la cantidad de activos es ENORME, y tratar de construir el portafolio de mercado sería una tarea grandiosa, pero poco realista para un analista financiero. \n",
    "- Por lo tanto, los índices de mercado han sido creados para intentar aproximar el portafolio de mercado.\n",
    "- Dicho índice es un portafolio más pequeño que el de mercado, construido por los que se consideran los activos más dominantes, y que capturan la esencia de el portafolio de mercado."
   ]
  },
  {
   "cell_type": "markdown",
   "metadata": {},
   "source": [
    "- El índice de mercado más conocido es el Standard & Poor’s 500-stock index (S&P), compuesto de 500 activos.\n",
    "- Un $\\beta$ para un activo dado, se puede estimar utilizando el S&P en reemplazo de M, y utilizando datos históricos para ambos rendimientos (el del activo y el del S&P500).\n",
    "- Por ejemplo, considere un activo $i$ para el cual queremos estimar su $\\beta_i$.\n",
    "- Este estimado se construye usando medias, varianzas y covarianzas muestrales como sigue:\n",
    " - Escogemos $N$ rendimientos históricos, tales como los reportados mensualmente hace tres años.\n",
    " - Para $k=1,2,\\dots,N$, $r_{ik}$ y $r_{S\\&Pk}$ denotan el $k-$ésimo valor muestral de los rendimietos.\n",
    "\n",
    "Entonces\n",
    "\n",
    "$$\\hat{E[r_i]}=\\frac{1}{N}\\sum_{k=1}^{N}r_{ik}, \\text{ y}$$\n",
    "\n",
    "$$\\hat{E[r_{S\\&P}]}=\\frac{1}{N}\\sum_{k=1}^{N}r_{S\\&Pk}.$$"
   ]
  },
  {
   "cell_type": "markdown",
   "metadata": {},
   "source": [
    "Además, la varianza $\\sigma_{S\\&P}^2$ se estima como\n",
    "\n",
    "$$\\hat{\\sigma_{S\\&P}^2}=\\frac{1}{N-1}\\sum_{k=1}^{N}(r_{S\\&Pk}-\\hat{E[r_{S\\&P}]})^2,$$\n",
    "\n",
    "y la covarianza $\\sigma_{S\\&P,i}$\n",
    "\n",
    "$$\\hat{\\sigma_{S\\&P,i}}=\\frac{1}{N-1}\\sum_{k=1}^{N}(r_{S\\&Pk}-\\hat{E[r_{S\\&P}]})(r_{ik}-\\hat{E[r_i]})$$"
   ]
  },
  {
   "cell_type": "markdown",
   "metadata": {},
   "source": [
    "Finalmente, \n",
    "\n",
    "$$\\hat{\\beta_i}=\\frac{\\hat{\\sigma_{S\\&P,i}}}{\\hat{\\sigma_{S\\&P}^2}}.$$"
   ]
  },
  {
   "cell_type": "markdown",
   "metadata": {},
   "source": [
    "### Ejemplo...\n",
    "\n",
    "Entrar a yahoo finance, a la información de MSFT, AAPL y ^GSPC."
   ]
  },
  {
   "cell_type": "code",
   "execution_count": 1,
   "metadata": {},
   "outputs": [],
   "source": [
    "# Importar paquetes\n",
    "import pandas as pd\n",
    "import pandas_datareader.data as web"
   ]
  },
  {
   "cell_type": "code",
   "execution_count": 2,
   "metadata": {},
   "outputs": [],
   "source": [
    "# Función para descargar precios de cierre ajustados:\n",
    "def get_adj_closes(tickers, start_date=None, end_date=None, freq='m'):\n",
    "    # Fecha inicio por defecto (start_date='2010-01-01') y fecha fin por defecto (end_date=today)\n",
    "    # Descargamos DataFrame con todos los datos\n",
    "    closes = web.YahooDailyReader(symbols=tickers, start=start_date, end=end_date, interval=freq).read()['Adj Close']\n",
    "    # Se ordenan los índices de manera ascendente\n",
    "    closes.sort_index(inplace=True)\n",
    "    return closes"
   ]
  },
  {
   "cell_type": "code",
   "execution_count": 6,
   "metadata": {},
   "outputs": [],
   "source": [
    "# Importar datos de AAPL, MSFT, y ^GSPC\n",
    "names= ['AAPL', 'MSFT','^GSPC']\n",
    "start_date, end_date= '2016-11-01','2019-11-01'\n",
    "closes= get_adj_closes(tickers=names, \n",
    "                    start_date=start_date, \n",
    "                    end_date=end_date)"
   ]
  },
  {
   "cell_type": "code",
   "execution_count": 7,
   "metadata": {},
   "outputs": [
    {
     "data": {
      "text/html": [
       "<div>\n",
       "<style scoped>\n",
       "    .dataframe tbody tr th:only-of-type {\n",
       "        vertical-align: middle;\n",
       "    }\n",
       "\n",
       "    .dataframe tbody tr th {\n",
       "        vertical-align: top;\n",
       "    }\n",
       "\n",
       "    .dataframe thead th {\n",
       "        text-align: right;\n",
       "    }\n",
       "</style>\n",
       "<table border=\"1\" class=\"dataframe\">\n",
       "  <thead>\n",
       "    <tr style=\"text-align: right;\">\n",
       "      <th>Symbols</th>\n",
       "      <th>AAPL</th>\n",
       "      <th>MSFT</th>\n",
       "      <th>^GSPC</th>\n",
       "    </tr>\n",
       "    <tr>\n",
       "      <th>Date</th>\n",
       "      <th></th>\n",
       "      <th></th>\n",
       "      <th></th>\n",
       "    </tr>\n",
       "  </thead>\n",
       "  <tbody>\n",
       "    <tr>\n",
       "      <th>2016-11-01</th>\n",
       "      <td>105.036453</td>\n",
       "      <td>56.906445</td>\n",
       "      <td>2198.810059</td>\n",
       "    </tr>\n",
       "    <tr>\n",
       "      <th>2016-12-01</th>\n",
       "      <td>110.638626</td>\n",
       "      <td>59.078251</td>\n",
       "      <td>2238.830078</td>\n",
       "    </tr>\n",
       "    <tr>\n",
       "      <th>2017-01-01</th>\n",
       "      <td>115.921227</td>\n",
       "      <td>61.464577</td>\n",
       "      <td>2278.870117</td>\n",
       "    </tr>\n",
       "    <tr>\n",
       "      <th>2017-02-01</th>\n",
       "      <td>130.861588</td>\n",
       "      <td>60.827587</td>\n",
       "      <td>2363.639893</td>\n",
       "    </tr>\n",
       "    <tr>\n",
       "      <th>2017-03-01</th>\n",
       "      <td>137.828171</td>\n",
       "      <td>62.994560</td>\n",
       "      <td>2362.719971</td>\n",
       "    </tr>\n",
       "  </tbody>\n",
       "</table>\n",
       "</div>"
      ],
      "text/plain": [
       "Symbols           AAPL       MSFT        ^GSPC\n",
       "Date                                          \n",
       "2016-11-01  105.036453  56.906445  2198.810059\n",
       "2016-12-01  110.638626  59.078251  2238.830078\n",
       "2017-01-01  115.921227  61.464577  2278.870117\n",
       "2017-02-01  130.861588  60.827587  2363.639893\n",
       "2017-03-01  137.828171  62.994560  2362.719971"
      ]
     },
     "execution_count": 7,
     "metadata": {},
     "output_type": "execute_result"
    }
   ],
   "source": [
    "# Obtener precios mensuales\n",
    "closes.head()"
   ]
  },
  {
   "cell_type": "code",
   "execution_count": 8,
   "metadata": {},
   "outputs": [
    {
     "data": {
      "text/html": [
       "<div>\n",
       "<style scoped>\n",
       "    .dataframe tbody tr th:only-of-type {\n",
       "        vertical-align: middle;\n",
       "    }\n",
       "\n",
       "    .dataframe tbody tr th {\n",
       "        vertical-align: top;\n",
       "    }\n",
       "\n",
       "    .dataframe thead th {\n",
       "        text-align: right;\n",
       "    }\n",
       "</style>\n",
       "<table border=\"1\" class=\"dataframe\">\n",
       "  <thead>\n",
       "    <tr style=\"text-align: right;\">\n",
       "      <th>Symbols</th>\n",
       "      <th>AAPL</th>\n",
       "      <th>MSFT</th>\n",
       "      <th>^GSPC</th>\n",
       "    </tr>\n",
       "    <tr>\n",
       "      <th>Date</th>\n",
       "      <th></th>\n",
       "      <th></th>\n",
       "      <th></th>\n",
       "    </tr>\n",
       "  </thead>\n",
       "  <tbody>\n",
       "    <tr>\n",
       "      <th>2016-12-01</th>\n",
       "      <td>0.053336</td>\n",
       "      <td>0.038165</td>\n",
       "      <td>0.018201</td>\n",
       "    </tr>\n",
       "    <tr>\n",
       "      <th>2017-01-01</th>\n",
       "      <td>0.047746</td>\n",
       "      <td>0.040393</td>\n",
       "      <td>0.017884</td>\n",
       "    </tr>\n",
       "    <tr>\n",
       "      <th>2017-02-01</th>\n",
       "      <td>0.128884</td>\n",
       "      <td>-0.010364</td>\n",
       "      <td>0.037198</td>\n",
       "    </tr>\n",
       "    <tr>\n",
       "      <th>2017-03-01</th>\n",
       "      <td>0.053236</td>\n",
       "      <td>0.035625</td>\n",
       "      <td>-0.000389</td>\n",
       "    </tr>\n",
       "    <tr>\n",
       "      <th>2017-04-01</th>\n",
       "      <td>-0.000070</td>\n",
       "      <td>0.039478</td>\n",
       "      <td>0.009091</td>\n",
       "    </tr>\n",
       "  </tbody>\n",
       "</table>\n",
       "</div>"
      ],
      "text/plain": [
       "Symbols         AAPL      MSFT     ^GSPC\n",
       "Date                                    \n",
       "2016-12-01  0.053336  0.038165  0.018201\n",
       "2017-01-01  0.047746  0.040393  0.017884\n",
       "2017-02-01  0.128884 -0.010364  0.037198\n",
       "2017-03-01  0.053236  0.035625 -0.000389\n",
       "2017-04-01 -0.000070  0.039478  0.009091"
      ]
     },
     "execution_count": 8,
     "metadata": {},
     "output_type": "execute_result"
    }
   ],
   "source": [
    "# Obtener rendimientos mensuales\n",
    "ret = data.pct_change().dropna()\n",
    "ret.head()"
   ]
  },
  {
   "cell_type": "code",
   "execution_count": 9,
   "metadata": {},
   "outputs": [
    {
     "data": {
      "text/html": [
       "<div>\n",
       "<style scoped>\n",
       "    .dataframe tbody tr th:only-of-type {\n",
       "        vertical-align: middle;\n",
       "    }\n",
       "\n",
       "    .dataframe tbody tr th {\n",
       "        vertical-align: top;\n",
       "    }\n",
       "\n",
       "    .dataframe thead th {\n",
       "        text-align: right;\n",
       "    }\n",
       "</style>\n",
       "<table border=\"1\" class=\"dataframe\">\n",
       "  <thead>\n",
       "    <tr style=\"text-align: right;\">\n",
       "      <th>Symbols</th>\n",
       "      <th>AAPL</th>\n",
       "      <th>MSFT</th>\n",
       "      <th>^GSPC</th>\n",
       "    </tr>\n",
       "    <tr>\n",
       "      <th>Symbols</th>\n",
       "      <th></th>\n",
       "      <th></th>\n",
       "      <th></th>\n",
       "    </tr>\n",
       "  </thead>\n",
       "  <tbody>\n",
       "    <tr>\n",
       "      <th>AAPL</th>\n",
       "      <td>0.006226</td>\n",
       "      <td>0.001684</td>\n",
       "      <td>0.001386</td>\n",
       "    </tr>\n",
       "    <tr>\n",
       "      <th>MSFT</th>\n",
       "      <td>0.001684</td>\n",
       "      <td>0.001977</td>\n",
       "      <td>0.001206</td>\n",
       "    </tr>\n",
       "    <tr>\n",
       "      <th>^GSPC</th>\n",
       "      <td>0.001386</td>\n",
       "      <td>0.001206</td>\n",
       "      <td>0.001207</td>\n",
       "    </tr>\n",
       "  </tbody>\n",
       "</table>\n",
       "</div>"
      ],
      "text/plain": [
       "Symbols      AAPL      MSFT     ^GSPC\n",
       "Symbols                              \n",
       "AAPL     0.006226  0.001684  0.001386\n",
       "MSFT     0.001684  0.001977  0.001206\n",
       "^GSPC    0.001386  0.001206  0.001207"
      ]
     },
     "execution_count": 9,
     "metadata": {},
     "output_type": "execute_result"
    }
   ],
   "source": [
    "# Obtener matriz de covarianza\n",
    "covariance= ret.cov()\n",
    "covariance"
   ]
  },
  {
   "cell_type": "code",
   "execution_count": 10,
   "metadata": {},
   "outputs": [
    {
     "data": {
      "text/plain": [
       "0.9996177982567852"
      ]
     },
     "execution_count": 10,
     "metadata": {},
     "output_type": "execute_result"
    }
   ],
   "source": [
    "# Beta de Microsoft\n",
    "beta_MSFT= covariance.loc['MSFT', '^GSPC']/covariance.loc['^GSPC','^GSPC']\n",
    "beta_MSFT"
   ]
  },
  {
   "cell_type": "code",
   "execution_count": 11,
   "metadata": {},
   "outputs": [
    {
     "data": {
      "text/plain": [
       "1.1480474227080073"
      ]
     },
     "execution_count": 11,
     "metadata": {},
     "output_type": "execute_result"
    }
   ],
   "source": [
    "# Beta de Apple\n",
    "beta_MSFT= covariance.loc['AAPL', '^GSPC']/covariance.loc['^GSPC','^GSPC']\n",
    "beta_MSFT"
   ]
  },
  {
   "cell_type": "markdown",
   "metadata": {},
   "source": [
    "## 3. Ejercicios"
   ]
  },
  {
   "cell_type": "markdown",
   "metadata": {},
   "source": [
    "Su portafolio de inversión consiste de $\\$150,000$ invertidos en un solo activo. Suponga que la tasa de interés libre de riesgo es $3\\%$. Este activo tiene un rendimiento esperado del $12\\%$, y una volatilidad del $40\\%$, y el portafolio de mercado tiene un rendimiento esperado del $10\\%$ y una volatilidad del $18\\%$. Bajo las suposiciones del CAPM, ¿cuál es la volatilidad de un mejor portafolio alternativo que tiene el mismo rendimiento que el activo?\n",
    "\n",
    "A. $\\sigma = 15.52\\%$\n",
    "\n",
    "B. $\\sigma = 23.14\\%$esta\n",
    "\n",
    "C. $\\sigma = 30.25\\%$ \n",
    "\n",
    "D. $\\sigma = 35.13\\%$ "
   ]
  },
  {
   "cell_type": "markdown",
   "metadata": {},
   "source": [
    "$$E[r]=r_f+\\frac{E[r_M]-r_f}{\\sigma_M}\\sigma.$$\n",
    "\n",
    "Necesitamos despejar sigma \n",
    "\n",
    "$$\\sigma= (\\frac{E[r_i]-r_f}{E[r_M]-r_f})\\sigma_M$$"
   ]
  },
  {
   "cell_type": "code",
   "execution_count": 13,
   "metadata": {},
   "outputs": [
    {
     "data": {
      "text/plain": [
       "0.2314285714285714"
      ]
     },
     "execution_count": 13,
     "metadata": {},
     "output_type": "execute_result"
    }
   ],
   "source": [
    "rf= 0.03\n",
    "Erf= 0.12\n",
    "srf= 0.4\n",
    "Erm=0.1\n",
    "srm=0.18\n",
    "\n",
    "sigma= srm*((Erf-rf)/(Erm-rf))\n",
    "sigma"
   ]
  },
  {
   "cell_type": "markdown",
   "metadata": {},
   "source": [
    "Con los mismos datos del ejercicio anterior, y suponiendo que usted está conforme con el riesgo del activo, bajo las suposiciones de CAPM, ¿cuál sería un mejor rendimiento esperado que debería ganar?\n",
    "\n",
    "A. $E[r] = 13.65\\%$\n",
    "\n",
    "B. $E[r] = 15.30\\%$\n",
    "\n",
    "C. $E[r] = 18.56\\%$esta\n",
    "\n",
    "D. $E[r] = 20.38\\%$ "
   ]
  },
  {
   "cell_type": "code",
   "execution_count": 14,
   "metadata": {},
   "outputs": [
    {
     "data": {
      "text/plain": [
       "0.18555555555555558"
      ]
     },
     "execution_count": 14,
     "metadata": {},
     "output_type": "execute_result"
    }
   ],
   "source": [
    "rf+((Erm-rf)/srm)*srf"
   ]
  },
  {
   "cell_type": "markdown",
   "metadata": {},
   "source": [
    "Suponga que usted tiene invertidos $\\$30,000$ en los siguientes cuatro activos:\n",
    "\n",
    "| Activo        | Cantidad invertida | $\\beta$ |\n",
    "| ------------- | ------------------ | ------- |\n",
    "| Activo A      | $\\$5,000$          | 0.75    |\n",
    "| Activo B      | $\\$10,000$         | 1.10    |\n",
    "| Activo C      | $\\$8,000$          | 1.36    |\n",
    "| Activo D      | $\\$7,000$          | 1.88    |\n",
    "\n",
    "La tasa libre de riesgo es del $2\\%$ y el rendimiento esperado del portafolio de mercado es del $8\\%$. Con base en el CAPM, ¿cuál es la $\\beta$ del portafolio?\n",
    "\n",
    "A. $\\beta_P = 0.95$\n",
    "\n",
    "B. $\\beta_P = 1.19$\n",
    "\n",
    "C. $\\beta_P = 1.29$esta\n",
    "\n",
    "D. $\\beta_P = 1.62$"
   ]
  },
  {
   "cell_type": "code",
   "execution_count": 18,
   "metadata": {},
   "outputs": [
    {
     "data": {
      "text/plain": [
       "1.2930000000000001"
      ]
     },
     "execution_count": 18,
     "metadata": {},
     "output_type": "execute_result"
    }
   ],
   "source": [
    "w1, w2, w3, w4= 1/6, 1/3, 4/15, 7/30\n",
    "b1, b2, b3, b4= 0.75,1.1,1.36,1.88\n",
    "w1*b1+w2*b2+w3*b3+w4*b4"
   ]
  },
  {
   "cell_type": "markdown",
   "metadata": {},
   "source": [
    "Considere la siguiente distribución de rendimientos:\n",
    "\n",
    "| Estado de la economía | Probabilidad       | $R_A$   |\n",
    "| --------------------- | ------------------ | ------- |\n",
    "| Depresión             | 0.30               | 0.10    |\n",
    "| Normal                | 0.50               | 0.15    |\n",
    "| Expansión             | 0.20               | 0.25    |\n",
    "\n",
    "Suponiendo que el CAPM es válido, que la volatilidad del portafolio de mercado es $\\sigma_M=0.10$ y que la correlación del activo A y el portafolio de mercado es $\\rho_{A,M}=0.9$, ¿cuál es el valor de $\\beta_A$?\n",
    "\n",
    "A. $\\beta_A=0.25$\n",
    "\n",
    "B. $\\beta_A=0.47$esta\n",
    "\n",
    "C. $\\beta_A=0.55$\n",
    "\n",
    "D. $\\beta_A=1.15$"
   ]
  },
  {
   "cell_type": "code",
   "execution_count": 25,
   "metadata": {},
   "outputs": [
    {
     "data": {
      "text/plain": [
       "(0.155, 0.05220153254455275, 0.46981379290097475)"
      ]
     },
     "execution_count": 25,
     "metadata": {},
     "output_type": "execute_result"
    }
   ],
   "source": [
    "Er=0.3*0.1+0.5*0.15+0.20*0.25\n",
    "vol= (0.3*(0.1-Er)**2+0.5*(0.15-Er)**2+0.2*(0.25-Er)**2)**0.5\n",
    "beta=(0.9*vol)/0.1\n",
    "Er, vol,beta"
   ]
  },
  {
   "cell_type": "markdown",
   "metadata": {},
   "source": [
    "Un fondo de inversiones con $\\beta=0.8$ tiene un rendimiento esperado del $16\\%$. Si la tasa libre de riesgo es $4\\%$ y el rendimiento esperado del portafolio de mercado es del $13\\%$, ¿debería invertir en este fondo?\n",
    "\n",
    "A. Si. Porque en este momento se encuentra subvaluado y su precio es menor, tambien esta generando mayor rendimiento del esperado. \n",
    "\n",
    "B. No."
   ]
  },
  {
   "cell_type": "code",
   "execution_count": 21,
   "metadata": {},
   "outputs": [
    {
     "data": {
      "text/plain": [
       "0.11199999999999999"
      ]
     },
     "execution_count": 21,
     "metadata": {},
     "output_type": "execute_result"
    }
   ],
   "source": [
    "beta=0.8\n",
    "Ei=0.16\n",
    "rf=0.04\n",
    "Em=0.13\n",
    "\n",
    "rf+beta*(Em-rf)"
   ]
  },
  {
   "cell_type": "markdown",
   "metadata": {},
   "source": [
    "Suponga que encontramos un activo el cual, con base en su precio al día de hoy, tiene un rendimiento esperado más bajo que lo que sugiere la línea de mercado de activos. Si el CAPM es válido, ¿cuál(es) de las siguientes proposiciones es (son) verdaderas?\n",
    "\n",
    "A. Si el activo tiene un rendimiento esperado más bajo que el sugerido por la línea, significa que su precio es muy bajo.\n",
    "\n",
    "*B. Si el activo tiene un rendimiento esperado más bajo que el sugerido por la línea, significa que su precio es muy alto.*\n",
    "\n",
    "C. El activo se grafica por encima de la línea.\n",
    "\n",
    "*D. El activo se grafica bajo la línea.*"
   ]
  },
  {
   "cell_type": "markdown",
   "metadata": {},
   "source": [
    "# Anuncios parroquiales\n",
    "\n",
    "## 1. Último quiz la próxima clase.\n",
    "## 2. Tarea 7 para el viernes 15 de noviembre."
   ]
  },
  {
   "cell_type": "markdown",
   "metadata": {},
   "source": [
    "<script>\n",
    "  $(document).ready(function(){\n",
    "    $('div.prompt').hide();\n",
    "    $('div.back-to-top').hide();\n",
    "    $('nav#menubar').hide();\n",
    "    $('.breadcrumb').hide();\n",
    "    $('.hidden-print').hide();\n",
    "  });\n",
    "</script>\n",
    "\n",
    "<footer id=\"attribution\" style=\"float:right; color:#808080; background:#fff;\">\n",
    "Created with Jupyter by Esteban Jiménez Rodríguez.\n",
    "</footer>"
   ]
  }
 ],
 "metadata": {
  "kernelspec": {
   "display_name": "Python 3",
   "language": "python",
   "name": "python3"
  },
  "language_info": {
   "codemirror_mode": {
    "name": "ipython",
    "version": 3
   },
   "file_extension": ".py",
   "mimetype": "text/x-python",
   "name": "python",
   "nbconvert_exporter": "python",
   "pygments_lexer": "ipython3",
   "version": "3.7.3"
  }
 },
 "nbformat": 4,
 "nbformat_minor": 2
}
