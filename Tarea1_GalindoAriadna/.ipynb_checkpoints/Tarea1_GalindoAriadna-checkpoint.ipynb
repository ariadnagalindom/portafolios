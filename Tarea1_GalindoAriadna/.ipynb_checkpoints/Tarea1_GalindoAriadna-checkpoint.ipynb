{
 "cells": [
  {
   "cell_type": "markdown",
   "metadata": {},
   "source": [
    "### *<font color=\"gray\">HI MY NAME IS*\n",
    "# **<font color=\"darkblue\">Ariadna Galindo**\n",
    "\n",
    "## Soy estudiante de *<font color=\"blue\">Ingeniería Financiera* del Instituto Tecnológico de Estudios Superiores de Occidente (ITESO) y actualmente estoy en <font color=\"green\">5° semestre. \n",
    "\n",
    "## Para adornar insertare fotos de mis gatos :)\n",
    "1. DIEGO <img src=\"diego.jpg\" width=\"300px\" height=\"200px\">\n",
    "2. MALIKA <img src=\"malika.jpg\" width=\"300px\" height=\"200px\">\n",
    "3. <img src=\"misgatos.jpg\"  width=\"300px\" height=\"200px\">\n",
    "\n",
    "## Elegí mi carrera porque yo sabía que quería estudiar una Ingeniería pero sin que estuviera tan relacionada con las lineas de producción de las industrias y es por eso que cuando estuve investigando escuelas me tope con esta ingeniería y el resto es historia. \n",
    "\n",
    "## Más sobre mi...\n",
    " - Soy Tecnológa Mecánica en Máquinas-Herramienta del Centro de Enseñanza Técnica Industrial (Colomos)\n",
    " - Nací en Zapopan Jalisco \n",
    " - Quiero conocer Vietnam\n",
    " - Conozco 6 paises de dos continentes diferentes\n",
    " - Amo los gatos\n",
    " - Me gusta bailar \n",
    " - En mis tiempos libres me invento recetas de cocina \n",
    " \n",
    "\n"
   ]
  },
  {
   "cell_type": "markdown",
   "metadata": {},
   "source": [
    "# Resúmen\n",
    "\n",
    "The inventor of the python lenguage dindn´t expect the succes that actualy has python. The americans even search more things about Python than the Kardashians-Jenner crew. The lenguage has the simplicity and flexibility adventages that makes it so universal. It is pretty easy to learn Python and there are a lot of practitioners called Pythonistas. It is also very versitale and there are companies using this lenguage for different propourses. Python may make the other languages obsoletes but no empire may last for ever. "
   ]
  }
 ],
 "metadata": {
  "kernelspec": {
   "display_name": "Python 3",
   "language": "python",
   "name": "python3"
  },
  "language_info": {
   "codemirror_mode": {
    "name": "ipython",
    "version": 3
   },
   "file_extension": ".py",
   "mimetype": "text/x-python",
   "name": "python",
   "nbconvert_exporter": "python",
   "pygments_lexer": "ipython3",
   "version": "3.7.3"
  }
 },
 "nbformat": 4,
 "nbformat_minor": 2
}
