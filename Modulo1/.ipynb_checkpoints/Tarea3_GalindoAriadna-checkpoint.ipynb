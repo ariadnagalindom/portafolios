{
 "cells": [
  {
   "cell_type": "markdown",
   "metadata": {},
   "source": [
    "# Tarea 3. Midiendo rendimiento y riesgo.\n",
    "\n",
    "<img style=\"float: right; margin: 0px 0px 15px 15px;\" src=\"https://www.maxpixel.net/static/photo/1x/Wall-Street-Dices-Over-Newspaper-Profit-Loss-Risk-2656028.jpg\" width=\"600px\" height=\"400px\" />\n",
    "\n",
    "**Resumen.**\n",
    "> En esta tarea descargarás datos históricos de precios y, con base en ellos, calcularás rendimientos. Luego se te pedirá resumir la distribución de rendimientos para cada instrumento calculando el rendimiento medio y volatilidad. De igual manera, se te pedirá presentar dicho resumen en una base anual.\n",
    "\n",
    "**Criterio de revisión.**\n",
    "> Se te calificará de acuerdo a los resultados finales que reportes, basados en tu análisis.\n",
    "\n",
    "**Antes de comenzar.**\n",
    "> Por favor, copiar y pegar este archivo en otra ubicación. Antes de comenzar, nombrarlo *Tarea3_ApellidoNombre*, sin acentos y sin espacios; por ejemplo, en mi caso el archivo se llamaría *Tarea3_JimenezEsteban*. Resolver todos los puntos en dicho archivo y subir en este espacio."
   ]
  },
  {
   "cell_type": "markdown",
   "metadata": {},
   "source": [
    "## 1. Descarga de datos (20 puntos)\n",
    "\n",
    "Descargar los precios diarios ajustados en el cierre para el índice S&P 500 (^GSPC), Microsoft (MSFT), Walgreens (WBA), y Tesla Motors (TSLA) durante el periodo comprendido del primero de enero del 2011 hasta el 31 de diciembre del 2015.\n",
    "\n",
    "1. Mostrar el DataFrame de los precios diarios (10 puntos).\n",
    "2. Graficar los precios (10 puntos)."
   ]
  },
  {
   "cell_type": "code",
   "execution_count": 1,
   "metadata": {},
   "outputs": [],
   "source": [
    "import pandas as pd\n",
    "import numpy as np\n",
    "import matplotlib.pyplot as plt\n",
    "%matplotlib inline\n",
    "import pandas_datareader.data as web"
   ]
  },
  {
   "cell_type": "code",
   "execution_count": 2,
   "metadata": {},
   "outputs": [],
   "source": [
    "start_date= '2011-01-01'\n",
    "end_date = '2015-12-31'\n",
    "def get_adj_closes(tickers, start_date=None, end_date=None):\n",
    "    # Fecha inicio por defecto (start_date='2010-01-01') y fecha fin por defecto (end_date=today)\n",
    "    # Descargamos DataFrame con todos los datos\n",
    "    closes = web.DataReader(name=tickers, data_source='yahoo', start=start_date, end=end_date)\n",
    "    # Solo necesitamos los precios ajustados en el cierre\n",
    "    closes = closes['Adj Close']\n",
    "    # Se ordenan los índices de manera ascendente\n",
    "    closes.sort_index(inplace=True)\n",
    "    return closes"
   ]
  },
  {
   "cell_type": "code",
   "execution_count": 3,
   "metadata": {},
   "outputs": [],
   "source": [
    "#creacion de variables\n",
    "names = ['^GSPC','MSFT', 'WBA','TSLA']\n",
    "start= '2011-01-01'\n",
    "end = '2015-12-31'"
   ]
  },
  {
   "cell_type": "code",
   "execution_count": 4,
   "metadata": {},
   "outputs": [
    {
     "data": {
      "text/html": [
       "<div>\n",
       "<style scoped>\n",
       "    .dataframe tbody tr th:only-of-type {\n",
       "        vertical-align: middle;\n",
       "    }\n",
       "\n",
       "    .dataframe tbody tr th {\n",
       "        vertical-align: top;\n",
       "    }\n",
       "\n",
       "    .dataframe thead th {\n",
       "        text-align: right;\n",
       "    }\n",
       "</style>\n",
       "<table border=\"1\" class=\"dataframe\">\n",
       "  <thead>\n",
       "    <tr style=\"text-align: right;\">\n",
       "      <th>Symbols</th>\n",
       "      <th>MSFT</th>\n",
       "      <th>TSLA</th>\n",
       "      <th>WBA</th>\n",
       "      <th>^GSPC</th>\n",
       "    </tr>\n",
       "    <tr>\n",
       "      <th>Date</th>\n",
       "      <th></th>\n",
       "      <th></th>\n",
       "      <th></th>\n",
       "      <th></th>\n",
       "    </tr>\n",
       "  </thead>\n",
       "  <tbody>\n",
       "    <tr>\n",
       "      <th>2011-01-03</th>\n",
       "      <td>22.558224</td>\n",
       "      <td>26.620001</td>\n",
       "      <td>32.173080</td>\n",
       "      <td>1271.869995</td>\n",
       "    </tr>\n",
       "    <tr>\n",
       "      <th>2011-01-04</th>\n",
       "      <td>22.646908</td>\n",
       "      <td>26.670000</td>\n",
       "      <td>32.443100</td>\n",
       "      <td>1270.199951</td>\n",
       "    </tr>\n",
       "    <tr>\n",
       "      <th>2011-01-05</th>\n",
       "      <td>22.574345</td>\n",
       "      <td>26.830000</td>\n",
       "      <td>32.893124</td>\n",
       "      <td>1276.560059</td>\n",
       "    </tr>\n",
       "    <tr>\n",
       "      <th>2011-01-06</th>\n",
       "      <td>23.235449</td>\n",
       "      <td>27.879999</td>\n",
       "      <td>32.991314</td>\n",
       "      <td>1273.849976</td>\n",
       "    </tr>\n",
       "    <tr>\n",
       "      <th>2011-01-07</th>\n",
       "      <td>23.058081</td>\n",
       "      <td>28.240000</td>\n",
       "      <td>32.794937</td>\n",
       "      <td>1271.500000</td>\n",
       "    </tr>\n",
       "  </tbody>\n",
       "</table>\n",
       "</div>"
      ],
      "text/plain": [
       "Symbols          MSFT       TSLA        WBA        ^GSPC\n",
       "Date                                                    \n",
       "2011-01-03  22.558224  26.620001  32.173080  1271.869995\n",
       "2011-01-04  22.646908  26.670000  32.443100  1270.199951\n",
       "2011-01-05  22.574345  26.830000  32.893124  1276.560059\n",
       "2011-01-06  23.235449  27.879999  32.991314  1273.849976\n",
       "2011-01-07  23.058081  28.240000  32.794937  1271.500000"
      ]
     },
     "execution_count": 4,
     "metadata": {},
     "output_type": "execute_result"
    }
   ],
   "source": [
    "closes= get_adj_closes(tickers =names,\n",
    "                      start_date = start,\n",
    "                       end_date = end\n",
    "                      )\n",
    "closes.head()"
   ]
  },
  {
   "cell_type": "code",
   "execution_count": 5,
   "metadata": {},
   "outputs": [
    {
     "data": {
      "image/png": "[encoded data removed]",
      "text/plain": [
       "<Figure size 720x576 with 1 Axes>"
      ]
     },
     "metadata": {
      "needs_background": "light"
     },
     "output_type": "display_data"
    }
   ],
   "source": [
    "closes.plot(figsize=(10,8),grid=True)\n",
    "plt.show()"
   ]
  },
  {
   "cell_type": "markdown",
   "metadata": {},
   "source": [
    "**Conclusión**\n",
    "\n",
    "Los precios del índice S&P son mucho más elevados que el de los otros activos y por esto en la gráfica estan tan distantes sus valores. Por esta diferencia podemos observar mucho menos la variación de los precios en los demás activos. En el periodo del 2011 al 2013 podemos percibir que los 3 activos restantes estaban básicamente en el mismo nivel y bastante constantes, después de ahí Tesla tiene muchas fluctuaciones pero en general, va a la alta. "
   ]
  },
  {
   "cell_type": "markdown",
   "metadata": {},
   "source": [
    "## 2. Cálculo de rendimientos diarios (20 puntos)\n",
    "\n",
    "A partir de los precios que descargaste en el anterior punto, calcular los rendimientos porcentuales diarios.\n",
    "\n",
    "1. Mostrar el DataFrame de los rendimientos porcentuales diarios (10 puntos).\n",
    "2. Graficar los rendimientos (10 puntos)."
   ]
  },
  {
   "cell_type": "code",
   "execution_count": 7,
   "metadata": {},
   "outputs": [
    {
     "data": {
      "text/html": [
       "<div>\n",
       "<style scoped>\n",
       "    .dataframe tbody tr th:only-of-type {\n",
       "        vertical-align: middle;\n",
       "    }\n",
       "\n",
       "    .dataframe tbody tr th {\n",
       "        vertical-align: top;\n",
       "    }\n",
       "\n",
       "    .dataframe thead th {\n",
       "        text-align: right;\n",
       "    }\n",
       "</style>\n",
       "<table border=\"1\" class=\"dataframe\">\n",
       "  <thead>\n",
       "    <tr style=\"text-align: right;\">\n",
       "      <th>Symbols</th>\n",
       "      <th>MSFT</th>\n",
       "      <th>TSLA</th>\n",
       "      <th>WBA</th>\n",
       "      <th>^GSPC</th>\n",
       "    </tr>\n",
       "    <tr>\n",
       "      <th>Date</th>\n",
       "      <th></th>\n",
       "      <th></th>\n",
       "      <th></th>\n",
       "      <th></th>\n",
       "    </tr>\n",
       "  </thead>\n",
       "  <tbody>\n",
       "    <tr>\n",
       "      <th>2011-01-04</th>\n",
       "      <td>0.003931</td>\n",
       "      <td>0.001878</td>\n",
       "      <td>0.008393</td>\n",
       "      <td>-0.001313</td>\n",
       "    </tr>\n",
       "    <tr>\n",
       "      <th>2011-01-05</th>\n",
       "      <td>-0.003204</td>\n",
       "      <td>0.005999</td>\n",
       "      <td>0.013871</td>\n",
       "      <td>0.005007</td>\n",
       "    </tr>\n",
       "    <tr>\n",
       "      <th>2011-01-06</th>\n",
       "      <td>0.029286</td>\n",
       "      <td>0.039135</td>\n",
       "      <td>0.002985</td>\n",
       "      <td>-0.002123</td>\n",
       "    </tr>\n",
       "    <tr>\n",
       "      <th>2011-01-07</th>\n",
       "      <td>-0.007634</td>\n",
       "      <td>0.012913</td>\n",
       "      <td>-0.005952</td>\n",
       "      <td>-0.001845</td>\n",
       "    </tr>\n",
       "    <tr>\n",
       "      <th>2011-01-10</th>\n",
       "      <td>-0.013287</td>\n",
       "      <td>0.007436</td>\n",
       "      <td>0.021707</td>\n",
       "      <td>-0.001376</td>\n",
       "    </tr>\n",
       "  </tbody>\n",
       "</table>\n",
       "</div>"
      ],
      "text/plain": [
       "Symbols         MSFT      TSLA       WBA     ^GSPC\n",
       "Date                                              \n",
       "2011-01-04  0.003931  0.001878  0.008393 -0.001313\n",
       "2011-01-05 -0.003204  0.005999  0.013871  0.005007\n",
       "2011-01-06  0.029286  0.039135  0.002985 -0.002123\n",
       "2011-01-07 -0.007634  0.012913 -0.005952 -0.001845\n",
       "2011-01-10 -0.013287  0.007436  0.021707 -0.001376"
      ]
     },
     "execution_count": 7,
     "metadata": {},
     "output_type": "execute_result"
    }
   ],
   "source": [
    "#usando el método sencillo\n",
    "ret = closes.pct_change().dropna() \n",
    "ret.head()"
   ]
  },
  {
   "cell_type": "code",
   "execution_count": 8,
   "metadata": {},
   "outputs": [
    {
     "data": {
      "text/plain": [
       "pandas.core.frame.DataFrame"
      ]
     },
     "execution_count": 8,
     "metadata": {},
     "output_type": "execute_result"
    }
   ],
   "source": [
    "type(ret)"
   ]
  },
  {
   "cell_type": "code",
   "execution_count": 12,
   "metadata": {},
   "outputs": [
    {
     "data": {
      "image/png": "[encoded data removed]",
      "text/plain": [
       "<Figure size 432x288 with 1 Axes>"
      ]
     },
     "metadata": {
      "needs_background": "light"
     },
     "output_type": "display_data"
    }
   ],
   "source": [
    "ret.plot(grid=True)\n",
    "plt.show()"
   ]
  },
  {
   "cell_type": "markdown",
   "metadata": {},
   "source": [
    "**Conclusión**\n",
    "\n",
    "El método utilizado nos permite obtener el rendimiento en una sola línea de código mucho más sencillo que introducir la fórmula nosotros. Podemos observar que los rendimientos son datos muy pequeños que oscilan al cero, lo cual esperabamos. A simple vista el activo más volatil es Tesla, mientras que el S&P es el más estable. "
   ]
  },
  {
   "cell_type": "markdown",
   "metadata": {},
   "source": [
    "## 3. Resumen de distribución de rendimientos (30 puntos)\n",
    "\n",
    "Con base en los rendimientos que calculaste en el punto anterior:\n",
    "\n",
    "1. Calcular el rendimiento medio diario para el índice S&P 500 y para los demás activos. Anualizar los rendimientos (15 puntos). \n",
    "\n",
    "2. Calcular la volatilidad diaria para el índice S&P 500 y para los demás activos. Anualizar (15 puntos).\n",
    "\n",
    "Por favor, reportar los resultados en DataFrames tal y como lo vimos en clase."
   ]
  },
  {
   "cell_type": "code",
   "execution_count": 16,
   "metadata": {},
   "outputs": [
    {
     "data": {
      "text/plain": [
       "Symbols\n",
       "MSFT     0.000764\n",
       "TSLA     0.002296\n",
       "WBA      0.000839\n",
       "^GSPC    0.000425\n",
       "dtype: float64"
      ]
     },
     "execution_count": 16,
     "metadata": {},
     "output_type": "execute_result"
    }
   ],
   "source": [
    "#rendimiento diario \n",
    "ret.mean()"
   ]
  },
  {
   "cell_type": "code",
   "execution_count": 14,
   "metadata": {},
   "outputs": [
    {
     "data": {
      "text/plain": [
       "Symbols\n",
       "MSFT     0.014799\n",
       "TSLA     0.033246\n",
       "WBA      0.016246\n",
       "^GSPC    0.009738\n",
       "dtype: float64"
      ]
     },
     "execution_count": 14,
     "metadata": {},
     "output_type": "execute_result"
    }
   ],
   "source": [
    "#volatilidad diaria \n",
    "ret.std()"
   ]
  },
  {
   "cell_type": "code",
   "execution_count": 17,
   "metadata": {},
   "outputs": [
    {
     "data": {
      "text/html": [
       "<div>\n",
       "<style scoped>\n",
       "    .dataframe tbody tr th:only-of-type {\n",
       "        vertical-align: middle;\n",
       "    }\n",
       "\n",
       "    .dataframe tbody tr th {\n",
       "        vertical-align: top;\n",
       "    }\n",
       "\n",
       "    .dataframe thead th {\n",
       "        text-align: right;\n",
       "    }\n",
       "</style>\n",
       "<table border=\"1\" class=\"dataframe\">\n",
       "  <thead>\n",
       "    <tr style=\"text-align: right;\">\n",
       "      <th></th>\n",
       "      <th>Mean</th>\n",
       "      <th>Volatility</th>\n",
       "    </tr>\n",
       "    <tr>\n",
       "      <th>Symbols</th>\n",
       "      <th></th>\n",
       "      <th></th>\n",
       "    </tr>\n",
       "  </thead>\n",
       "  <tbody>\n",
       "    <tr>\n",
       "      <th>MSFT</th>\n",
       "      <td>0.000764</td>\n",
       "      <td>0.014799</td>\n",
       "    </tr>\n",
       "    <tr>\n",
       "      <th>TSLA</th>\n",
       "      <td>0.002296</td>\n",
       "      <td>0.033246</td>\n",
       "    </tr>\n",
       "    <tr>\n",
       "      <th>WBA</th>\n",
       "      <td>0.000839</td>\n",
       "      <td>0.016246</td>\n",
       "    </tr>\n",
       "    <tr>\n",
       "      <th>^GSPC</th>\n",
       "      <td>0.000425</td>\n",
       "      <td>0.009738</td>\n",
       "    </tr>\n",
       "  </tbody>\n",
       "</table>\n",
       "</div>"
      ],
      "text/plain": [
       "             Mean  Volatility\n",
       "Symbols                      \n",
       "MSFT     0.000764    0.014799\n",
       "TSLA     0.002296    0.033246\n",
       "WBA      0.000839    0.016246\n",
       "^GSPC    0.000425    0.009738"
      ]
     },
     "execution_count": 17,
     "metadata": {},
     "output_type": "execute_result"
    }
   ],
   "source": [
    "#DataFrame del rendimiento y la volatilidad diaria \n",
    "ret_summary= pd.DataFrame(data={'Mean':ret.mean(),\n",
    "                               'Volatility':ret.std()},\n",
    "                         index= ret.columns)\n",
    "ret_summary"
   ]
  },
  {
   "cell_type": "code",
   "execution_count": 18,
   "metadata": {},
   "outputs": [
    {
     "data": {
      "text/html": [
       "<div>\n",
       "<style scoped>\n",
       "    .dataframe tbody tr th:only-of-type {\n",
       "        vertical-align: middle;\n",
       "    }\n",
       "\n",
       "    .dataframe tbody tr th {\n",
       "        vertical-align: top;\n",
       "    }\n",
       "\n",
       "    .dataframe thead th {\n",
       "        text-align: right;\n",
       "    }\n",
       "</style>\n",
       "<table border=\"1\" class=\"dataframe\">\n",
       "  <thead>\n",
       "    <tr style=\"text-align: right;\">\n",
       "      <th></th>\n",
       "      <th>Mean</th>\n",
       "      <th>Volatility</th>\n",
       "    </tr>\n",
       "    <tr>\n",
       "      <th>Symbols</th>\n",
       "      <th></th>\n",
       "      <th></th>\n",
       "    </tr>\n",
       "  </thead>\n",
       "  <tbody>\n",
       "    <tr>\n",
       "      <th>MSFT</th>\n",
       "      <td>0.192464</td>\n",
       "      <td>0.234922</td>\n",
       "    </tr>\n",
       "    <tr>\n",
       "      <th>TSLA</th>\n",
       "      <td>0.578548</td>\n",
       "      <td>0.527757</td>\n",
       "    </tr>\n",
       "    <tr>\n",
       "      <th>WBA</th>\n",
       "      <td>0.211496</td>\n",
       "      <td>0.257905</td>\n",
       "    </tr>\n",
       "    <tr>\n",
       "      <th>^GSPC</th>\n",
       "      <td>0.107092</td>\n",
       "      <td>0.154583</td>\n",
       "    </tr>\n",
       "  </tbody>\n",
       "</table>\n",
       "</div>"
      ],
      "text/plain": [
       "             Mean  Volatility\n",
       "Symbols                      \n",
       "MSFT     0.192464    0.234922\n",
       "TSLA     0.578548    0.527757\n",
       "WBA      0.211496    0.257905\n",
       "^GSPC    0.107092    0.154583"
      ]
     },
     "execution_count": 18,
     "metadata": {},
     "output_type": "execute_result"
    }
   ],
   "source": [
    "#rendimiento y volatilidad anual\n",
    "annual_ret_summary= pd.DataFrame(data={'Mean':252*ret.mean(),\n",
    "                               'Volatility':np.sqrt(252)*ret.std()},\n",
    "                         index= ret.columns)\n",
    "annual_ret_summary"
   ]
  },
  {
   "cell_type": "markdown",
   "metadata": {},
   "source": [
    "**Conclusión**\n",
    "\n",
    "Los rendimientos se ven bastante pequeños cuando son analizados diariamente, pero cuando los pasamos a valores anuales ya son una cantidad bastante considerable. Como ya había comentado en el punto uno, Tesla es nuestro activo más volátil y por lo mismo es el que más rendimientos genera. Todos los activos son bastante parejos en cuanto a su volatilidad con los rendimientos que generan."
   ]
  },
  {
   "cell_type": "markdown",
   "metadata": {},
   "source": [
    "## 4. Gráfico rendimientos esperados vs. volatilidad (30 puntos)\n",
    "\n",
    "Graficar los rendimientos medios anuales contra las desviaciones estándar del índice S&P 500 y de los demás activos. Como vimos en clase, la volatilidad debe ir en el eje $x$ y el rendimiento esperado en el eje $y$. Se deben etiquetar los ejes y dar detalles para un completo entendimiento de la gráfica.\n",
    "\n",
    "1. Gráfico (10 puntos).\n",
    "2. Ajuste una línea recta a los puntos obtenidos. Dar la ecuación (10 puntos).\n",
    "3. A partir del gráfico y de la línea recta ajustada, concluya acerca de la relación rendimiento/riesgo (10 puntos).\n",
    "\n",
    "*Nota:* el ajuste de la línea recta corresponde a una regresión lineal. Si no saben como hacerlo, por favor preguntar en asesoría."
   ]
  },
  {
   "cell_type": "code",
   "execution_count": 22,
   "metadata": {},
   "outputs": [
    {
     "data": {
      "image/png": "[encoded data removed]",
      "text/plain": [
       "<Figure size 432x288 with 1 Axes>"
      ]
     },
     "metadata": {
      "needs_background": "light"
     },
     "output_type": "display_data"
    }
   ],
   "source": [
    "# Gráfico rendimiento esperado vs. volatilidad\n",
    "# Puntos a graficar\n",
    "x_points = annual_ret_summary['Volatility']\n",
    "y_points = annual_ret_summary['Mean']\n",
    "# Ventana para graficar\n",
    "plt.figure()\n",
    "# Graficar puntos\n",
    "plt.plot(x_points, y_points, '*')\n",
    "# Etiquetas de los ejes\n",
    "plt.xlabel('Volatility')\n",
    "plt.ylabel('Mean')\n",
    "# Etiqueta de cada instrumento\n",
    "plt.text(annual_ret_summary.loc['^GSPC','Volatility'],\n",
    "         annual_ret_summary.loc['^GSPC','Mean'],\n",
    "        '^GSPC')\n",
    "plt.text(annual_ret_summary.loc['WBA','Volatility'],\n",
    "         annual_ret_summary.loc['WBA','Mean'],\n",
    "        'WBA')\n",
    "plt.text(annual_ret_summary.loc['MSFT','Volatility'],\n",
    "         annual_ret_summary.loc['MSFT','Mean'],\n",
    "        'MSFT')\n",
    "plt.text(annual_ret_summary.loc['TSLA','Volatility'],\n",
    "         annual_ret_summary.loc['TSLA','Mean'],\n",
    "        'TSLA')\n",
    "\n",
    "plt.grid()\n",
    "plt.show()"
   ]
  },
  {
   "cell_type": "code",
   "execution_count": 20,
   "metadata": {},
   "outputs": [],
   "source": [
    "# Importar el módulo optimize de la librería scipy\n",
    "import scipy.optimize as opt"
   ]
  },
  {
   "cell_type": "code",
   "execution_count": 21,
   "metadata": {},
   "outputs": [],
   "source": [
    "# Funcion objetivo y condicion inicial\n",
    "def obj_fun(beta, Er, sigma):\n",
    "    return ((Er- (beta[0]+beta[1]*sigma))**2).sum()\n",
    "beta_0 = [0,1]"
   ]
  },
  {
   "cell_type": "code",
   "execution_count": 23,
   "metadata": {},
   "outputs": [],
   "source": [
    "solution = opt.minimize(obj_fun, beta_0,args=(y_points, x_points))\n",
    "beta = solution.x\n",
    "#ordenar los puntos\n",
    "x_points = np.sort(x_points)\n",
    "y_points = y_points[np.argsort(x_points)]"
   ]
  },
  {
   "cell_type": "code",
   "execution_count": 24,
   "metadata": {},
   "outputs": [
    {
     "data": {
      "image/png": "[encoded data removed]",
      "text/plain": [
       "<Figure size 432x288 with 1 Axes>"
      ]
     },
     "metadata": {
      "needs_background": "light"
     },
     "output_type": "display_data"
    }
   ],
   "source": [
    "# Gráfico rendimiento esperado vs. volatilidad + una linea ajustada\n",
    "# Puntos a graficar\n",
    "x_points = annual_ret_summary['Volatility']\n",
    "y_points = annual_ret_summary['Mean']\n",
    "# Ventana para graficar\n",
    "plt.figure()\n",
    "# Graficar puntos\n",
    "plt.plot(x_points, y_points, '*')\n",
    "# Etiquetas de los ejes\n",
    "plt.xlabel('Volatility')\n",
    "plt.ylabel('Mean')\n",
    "# Etiqueta de cada instrumento\n",
    "plt.text(annual_ret_summary.loc['^GSPC','Volatility'],\n",
    "         annual_ret_summary.loc['^GSPC','Mean'],\n",
    "        '^GSPC')\n",
    "plt.text(annual_ret_summary.loc['WBA','Volatility'],\n",
    "         annual_ret_summary.loc['WBA','Mean'],\n",
    "        'WBA')\n",
    "plt.text(annual_ret_summary.loc['MSFT','Volatility'],\n",
    "         annual_ret_summary.loc['MSFT','Mean'],\n",
    "        'MSFT')\n",
    "plt.text(annual_ret_summary.loc['TSLA','Volatility'],\n",
    "         annual_ret_summary.loc['TSLA','Mean'],\n",
    "        'TSLA')\n",
    "\n",
    "# Grafico recta ajustada\n",
    "plt.plot(x_points, beta[0]+ beta[1]*x_points)\n",
    "\n",
    "plt.grid()\n",
    "plt.show()"
   ]
  },
  {
   "cell_type": "markdown",
   "metadata": {},
   "source": [
    "**Conclusión**\n",
    "\n",
    "A mayor volatilidad de un activo sabemos que habrá mayor riesgo y de esto se espera obtener un mayor rendimiento por el riesgo asumido. Si este fuera un portafolio nuestro a simple vista tenemos un riesgo neutralizado por el bajo riesgo de 3 activos y solo tenemos uno bastante más riesgoso. Los rendimietos esperados siempre van a ser un dato positivo debido a la cantidad de riesgo que significan. "
   ]
  },
  {
   "cell_type": "markdown",
   "metadata": {},
   "source": [
    "<script>\n",
    "  $(document).ready(function(){\n",
    "    $('div.prompt').hide();\n",
    "    $('div.back-to-top').hide();\n",
    "    $('nav#menubar').hide();\n",
    "    $('.breadcrumb').hide();\n",
    "    $('.hidden-print').hide();\n",
    "  });\n",
    "</script>\n",
    "\n",
    "<footer id=\"attribution\" style=\"float:right; color:#808080; background:#fff;\">\n",
    "Created with Jupyter by Esteban Jiménez Rodríguez.\n",
    "</footer>"
   ]
  }
 ],
 "metadata": {
  "kernelspec": {
   "display_name": "Python 3",
   "language": "python",
   "name": "python3"
  },
  "language_info": {
   "codemirror_mode": {
    "name": "ipython",
    "version": 3
   },
   "file_extension": ".py",
   "mimetype": "text/x-python",
   "name": "python",
   "nbconvert_exporter": "python",
   "pygments_lexer": "ipython3",
   "version": "3.7.3"
  }
 },
 "nbformat": 4,
 "nbformat_minor": 2
}
