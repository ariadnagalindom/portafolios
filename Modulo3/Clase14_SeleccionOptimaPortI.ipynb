{
 "cells": [
  {
   "cell_type": "markdown",
   "metadata": {},
   "source": [
    "# Selección óptima de portafolios I\n",
    "\n",
    "<img style=\"float: right; margin: 0px 0px 15px 15px;\" src=\"https://upload.wikimedia.org/wikipedia/commons/thumb/6/6e/Separation_theorem_of_MPT.svg/2000px-Separation_theorem_of_MPT.svg.png\" width=\"400px\" height=\"400px\" />\n",
    "\n",
    "En la clase pasada vimos que:\n",
    "- La LAC describe las posibles selecciones de riesgo-rendimiento entre un activo libre de riesgo y un activo riesgoso.\n",
    "- Su pendiente es igual al radio de Sharpe del activo riesgoso.\n",
    "- La asignación óptima de capital para cualquier inversionista es el punto tangente de la curva de indiferencia del inversionista con la LAC (depende de las preferencias particulares - aversión al riesgo).\n",
    "\n",
    "Para todo lo anterior, supusimos que ya teníamos el portafolio óptimo (activo riesgoso).\n",
    "\n",
    "En el siguiente análisis:\n",
    " \n",
    "\n",
    "**Objetivos:**\n",
    "- ¿Cuál es el portafolio óptimo de activos riesgosos?\n",
    " - ¿Cuál es el mejor portafolio de activos riesgosos?\n",
    " - Es un portafolio eficiente en media-varianza.\n",
    "- Problema: dado un conjunto de activos riesgosos, ¿cómo construimos la mejor combinación?\n",
    "\n",
    "*Referencia:*\n",
    "- Notas del curso \"Portfolio Selection and Risk Management\", Rice University, disponible en Coursera.\n",
    "___ "
   ]
  },
  {
   "cell_type": "markdown",
   "metadata": {},
   "source": [
    "## 1. Maximizando el radio de Sharpe\n",
    "\n",
    "### ¿Qué pasa si tenemos dos activos riesgosos?\n",
    "\n",
    "Cuando tenemos dos o más activos riesgosos, tenemos disponibles diferentes LAC. ¿Qué significan sus pendientes?\n",
    "\n",
    "<font color=blue> Ver en el tablero.</font>\n",
    "\n",
    "Pregunta:\n",
    "- ¿Qué es lo que se quiere?"
   ]
  },
  {
   "cell_type": "markdown",
   "metadata": {},
   "source": [
    "**Conclusión:** \n",
    "- El mejor portafolio de activos no depende de las preferencias individuales, y por tanto va a ser igual para todos.\n",
    "- Dicho mejor portafolio maximiza el radio de Sharpe.\n",
    "- A este portafolio lo llamaremos el portafolio eficiente en media-varianza (EMV)"
   ]
  },
  {
   "cell_type": "markdown",
   "metadata": {},
   "source": [
    "**Idea principal: el portafolio óptimo de activos riesgosos es independiente de las preferencias del inversionista.** \n",
    "- El portafolio EMV determina el portafolio óptimo de activos riesgosos.\n",
    "- Todos tendremos el mismo portafolio de activos riesgosos (EMV), y lo combinaremos con el activo libre de reisgo de acuerdo con las preferencias de cada uno de nosotros (aversión al riesgo).\n",
    "- La LAC combinando el activo libre de riesgo y el portafolio EMV, se vuelve el conjunto de portafolios eficientes."
   ]
  },
  {
   "cell_type": "markdown",
   "metadata": {},
   "source": [
    "Entonces, se deben seguir los siguientes pasos:\n",
    "1. Crear la frontera media-varianza.\n",
    "2. Encontrar el portafolio que maximize el radio de Sharpe (portafolio EMV).\n",
    "3. Construir la frontera eficiente (LAC) del punto $(0,r_f)$ al punto $(\\sigma_s,E[r_s])$ del portafolio EMV.\n",
    "4. Combinar de acuerdo a sus preferencias.\n",
    "___"
   ]
  },
  {
   "cell_type": "markdown",
   "metadata": {},
   "source": [
    "## 2. Solución analítica del portafolio EMV: caso con dos activos.\n",
    "\n",
    "Queremos solucionar el siguiente problema:\n",
    "\n",
    "\\begin{align}\n",
    "\\max_{w_1,w_2} &\\quad \\frac{E[r_p]-r_f}{\\sigma_p}\\\\\n",
    "\\text{s.a.}    &\\quad E[r_p]=w_1E[r_1]+w_2E[r_2]\\\\\n",
    "               &\\quad \\sigma_p=\\sqrt{w_1^2\\sigma_1^2+w_2^2\\sigma_2^2+2w_1w_2\\rho_{12}\\sigma_1\\sigma_2}\\\\\n",
    "               &\\quad w_1+w_2=1, \\quad w_1,w_2\\geq0\n",
    "\\end{align}"
   ]
  },
  {
   "cell_type": "markdown",
   "metadata": {},
   "source": [
    "el cual es equivalente a\n",
    "\n",
    "\\begin{align}\n",
    "\\max_{w_1} &\\quad \\frac{w_1E[r_1]+(1-w_1)E[r_2]-r_f}{\\sqrt{w_1^2\\sigma_1^2+(1-w_1)^2\\sigma_2^2+2w_1(1-w_1)\\rho_{12}\\sigma_1\\sigma_2}}\\\\\n",
    "\\text{s.a.}    &\\quad 0\\leq w_1\\leq1\n",
    "\\end{align}"
   ]
  },
  {
   "cell_type": "markdown",
   "metadata": {},
   "source": [
    "**Actividad.**\n",
    "El anterior es un problema de maximizar una función de una variable en un dominio cerrado. No debaría representar dificultad.\n",
    "\n",
    "Encontrar la solución analítica a este problema.\n",
    "\n",
    "Quien primero lo haga, y salga a explicarlo al tablero, le subo alguna tarea, quiz o el primer examen a 100.\n",
    "\n",
    "Deben llegar a:\n",
    "\n",
    "$$w_{1,EMV}=\\frac{(E[r_1]-r_f)\\sigma_2^2-(E[r_2]-r_f)\\sigma_{12}}{(E[r_2]-r_f)\\sigma_1^2+(E[r_1]-r_f)\\sigma_2^2-((E[r_1]-r_f)+(E[r_2]-r_f))\\sigma_{12}}.$$"
   ]
  },
  {
   "cell_type": "markdown",
   "metadata": {},
   "source": [
    "Si nadie lo ha hecho en 30 min., procederé a hacerlo yo.\n",
    "\n",
    "**Nota:** \n",
    "- así como obtuvimos una expresión para el peso del portafolio de mínima varianza con dos activos, obtenemos una expresión para el peso del portafolio Eficiente en Media-Varianza. \n",
    "- Estas actividades son sin duda un buen ejercicio, y se pueden replicar usando técnicas de varias variables (multiplicadores de Lagrange) cuando se tengan más de dos activos.\n",
    "- Sin embargo, la complejidad del problema crece considerablemente con el número de variables, y la solución analítica deja de ser viable cuando mencionamos que un portafolio bien diversificado consta aproximadamente de 50-60 activos.\n",
    "- En esos casos, este problema se soluciona con rutinas numéricas que hagan la optimización por nosotros.\n",
    "- Por eso, les enseño cómo resolver este problema con optimizadores numéricos, porque son una solución viable y escalable a más variables."
   ]
  },
  {
   "cell_type": "markdown",
   "metadata": {},
   "source": [
    "## 3. Ejemplo ilustrativo.\n",
    "\n",
    "Retomamos el ejemplo de mercados de acciones en los países integrantes del $G5$: EU, RU, Francia, Alemania y Japón."
   ]
  },
  {
   "cell_type": "code",
   "execution_count": 2,
   "metadata": {},
   "outputs": [],
   "source": [
    "# Importamos pandas y numpy\n",
    "import pandas as pd\n",
    "import numpy as np"
   ]
  },
  {
   "cell_type": "code",
   "execution_count": 3,
   "metadata": {},
   "outputs": [
    {
     "data": {
      "text/html": [
       "<div>\n",
       "<style scoped>\n",
       "    .dataframe tbody tr th:only-of-type {\n",
       "        vertical-align: middle;\n",
       "    }\n",
       "\n",
       "    .dataframe tbody tr th {\n",
       "        vertical-align: top;\n",
       "    }\n",
       "\n",
       "    .dataframe thead th {\n",
       "        text-align: right;\n",
       "    }\n",
       "</style>\n",
       "<table border=\"1\" class=\"dataframe\">\n",
       "  <thead>\n",
       "    <tr style=\"text-align: right;\">\n",
       "      <th></th>\n",
       "      <th>EU</th>\n",
       "      <th>RU</th>\n",
       "      <th>Francia</th>\n",
       "      <th>Alemania</th>\n",
       "      <th>Japon</th>\n",
       "    </tr>\n",
       "  </thead>\n",
       "  <tbody>\n",
       "    <tr>\n",
       "      <th>Media</th>\n",
       "      <td>0.1355</td>\n",
       "      <td>0.1589</td>\n",
       "      <td>0.1519</td>\n",
       "      <td>0.1435</td>\n",
       "      <td>0.1497</td>\n",
       "    </tr>\n",
       "    <tr>\n",
       "      <th>Volatilidad</th>\n",
       "      <td>0.1535</td>\n",
       "      <td>0.243</td>\n",
       "      <td>0.2324</td>\n",
       "      <td>0.2038</td>\n",
       "      <td>0.2298</td>\n",
       "    </tr>\n",
       "  </tbody>\n",
       "</table>\n",
       "</div>"
      ],
      "text/plain": [
       "                 EU      RU Francia Alemania   Japon\n",
       "Media        0.1355  0.1589  0.1519   0.1435  0.1497\n",
       "Volatilidad  0.1535   0.243  0.2324   0.2038  0.2298"
      ]
     },
     "execution_count": 3,
     "metadata": {},
     "output_type": "execute_result"
    }
   ],
   "source": [
    "# Resumen en base anual de rendimientos esperados y volatilidades\n",
    "annual_ret_summ = pd.DataFrame(columns=['EU', 'RU', 'Francia', 'Alemania', 'Japon'], index=['Media', 'Volatilidad'])\n",
    "annual_ret_summ.loc['Media'] = np.array([0.1355, 0.1589, 0.1519, 0.1435, 0.1497])\n",
    "annual_ret_summ.loc['Volatilidad'] = np.array([0.1535, 0.2430, 0.2324, 0.2038, 0.2298])\n",
    "\n",
    "annual_ret_summ.round(4)"
   ]
  },
  {
   "cell_type": "code",
   "execution_count": 4,
   "metadata": {},
   "outputs": [
    {
     "data": {
      "text/html": [
       "<div>\n",
       "<style scoped>\n",
       "    .dataframe tbody tr th:only-of-type {\n",
       "        vertical-align: middle;\n",
       "    }\n",
       "\n",
       "    .dataframe tbody tr th {\n",
       "        vertical-align: top;\n",
       "    }\n",
       "\n",
       "    .dataframe thead th {\n",
       "        text-align: right;\n",
       "    }\n",
       "</style>\n",
       "<table border=\"1\" class=\"dataframe\">\n",
       "  <thead>\n",
       "    <tr style=\"text-align: right;\">\n",
       "      <th></th>\n",
       "      <th>EU</th>\n",
       "      <th>RU</th>\n",
       "      <th>Francia</th>\n",
       "      <th>Alemania</th>\n",
       "      <th>Japon</th>\n",
       "    </tr>\n",
       "  </thead>\n",
       "  <tbody>\n",
       "    <tr>\n",
       "      <th>EU</th>\n",
       "      <td>1.0000</td>\n",
       "      <td>0.5003</td>\n",
       "      <td>0.4398</td>\n",
       "      <td>0.3681</td>\n",
       "      <td>0.2663</td>\n",
       "    </tr>\n",
       "    <tr>\n",
       "      <th>RU</th>\n",
       "      <td>0.5003</td>\n",
       "      <td>1.0000</td>\n",
       "      <td>0.5420</td>\n",
       "      <td>0.4265</td>\n",
       "      <td>0.3581</td>\n",
       "    </tr>\n",
       "    <tr>\n",
       "      <th>Francia</th>\n",
       "      <td>0.4398</td>\n",
       "      <td>0.5420</td>\n",
       "      <td>1.0000</td>\n",
       "      <td>0.6032</td>\n",
       "      <td>0.3923</td>\n",
       "    </tr>\n",
       "    <tr>\n",
       "      <th>Alemania</th>\n",
       "      <td>0.3681</td>\n",
       "      <td>0.4265</td>\n",
       "      <td>0.6032</td>\n",
       "      <td>1.0000</td>\n",
       "      <td>0.3663</td>\n",
       "    </tr>\n",
       "    <tr>\n",
       "      <th>Japon</th>\n",
       "      <td>0.2663</td>\n",
       "      <td>0.3581</td>\n",
       "      <td>0.3923</td>\n",
       "      <td>0.3663</td>\n",
       "      <td>1.0000</td>\n",
       "    </tr>\n",
       "  </tbody>\n",
       "</table>\n",
       "</div>"
      ],
      "text/plain": [
       "              EU      RU  Francia  Alemania   Japon\n",
       "EU        1.0000  0.5003   0.4398    0.3681  0.2663\n",
       "RU        0.5003  1.0000   0.5420    0.4265  0.3581\n",
       "Francia   0.4398  0.5420   1.0000    0.6032  0.3923\n",
       "Alemania  0.3681  0.4265   0.6032    1.0000  0.3663\n",
       "Japon     0.2663  0.3581   0.3923    0.3663  1.0000"
      ]
     },
     "execution_count": 4,
     "metadata": {},
     "output_type": "execute_result"
    }
   ],
   "source": [
    "# Matriz de correlación\n",
    "corr = pd.DataFrame(data= np.array([[1.0000, 0.5003, 0.4398, 0.3681, 0.2663],\n",
    "                                    [0.5003, 1.0000, 0.5420, 0.4265, 0.3581],\n",
    "                                    [0.4398, 0.5420, 1.0000, 0.6032, 0.3923],\n",
    "                                    [0.3681, 0.4265, 0.6032, 1.0000, 0.3663],\n",
    "                                    [0.2663, 0.3581, 0.3923, 0.3663, 1.0000]]),\n",
    "                    columns=annual_ret_summ.columns, index=annual_ret_summ.columns)\n",
    "corr.round(4)"
   ]
  },
  {
   "cell_type": "markdown",
   "metadata": {},
   "source": [
    "Supondremos, además, que la tasa libre de riesgo es $r_f=5\\%$."
   ]
  },
  {
   "cell_type": "code",
   "execution_count": 5,
   "metadata": {},
   "outputs": [],
   "source": [
    "# Tasa libre de riesgo\n",
    "rf= 0.05"
   ]
  },
  {
   "cell_type": "markdown",
   "metadata": {},
   "source": [
    "Entonces, supondremos que tenemos disponibles los activos correspondientes a los mercados de acciones de EU y Japón, y en adición el activo libre de riesgo."
   ]
  },
  {
   "cell_type": "markdown",
   "metadata": {},
   "source": [
    "#### 1. Construir la frontera de mínima varianza"
   ]
  },
  {
   "cell_type": "code",
   "execution_count": 6,
   "metadata": {},
   "outputs": [],
   "source": [
    "# Vector de w variando entre 0 y 1 con n pasos\n",
    "n=101\n",
    "w= np.linspace(0,1,n)\n",
    "# Rendimientos esperados individuales\n",
    "# Activo1: EU, Activo2:Japon\n",
    "E1=annual_ret_summ.loc['Media', 'EU']\n",
    "E2=annual_ret_summ.loc['Media', 'Japon']\n",
    "# Volatilidades individuales\n",
    "s1=annual_ret_summ.loc['Volatilidad', 'EU']\n",
    "s2=annual_ret_summ.loc['Volatilidad', 'Japon']\n",
    "# Correlacion\n",
    "r12= corr.loc['EU','Japon']"
   ]
  },
  {
   "cell_type": "code",
   "execution_count": 8,
   "metadata": {},
   "outputs": [
    {
     "data": {
      "text/html": [
       "<div>\n",
       "<style scoped>\n",
       "    .dataframe tbody tr th:only-of-type {\n",
       "        vertical-align: middle;\n",
       "    }\n",
       "\n",
       "    .dataframe tbody tr th {\n",
       "        vertical-align: top;\n",
       "    }\n",
       "\n",
       "    .dataframe thead th {\n",
       "        text-align: right;\n",
       "    }\n",
       "</style>\n",
       "<table border=\"1\" class=\"dataframe\">\n",
       "  <thead>\n",
       "    <tr style=\"text-align: right;\">\n",
       "      <th></th>\n",
       "      <th>w</th>\n",
       "      <th>1-w</th>\n",
       "      <th>Media</th>\n",
       "      <th>vol</th>\n",
       "      <th>RS</th>\n",
       "    </tr>\n",
       "  </thead>\n",
       "  <tbody>\n",
       "    <tr>\n",
       "      <th>0</th>\n",
       "      <td>0.00</td>\n",
       "      <td>1.00</td>\n",
       "      <td>0.149700</td>\n",
       "      <td>0.229800</td>\n",
       "      <td>0.433856</td>\n",
       "    </tr>\n",
       "    <tr>\n",
       "      <th>1</th>\n",
       "      <td>0.01</td>\n",
       "      <td>0.99</td>\n",
       "      <td>0.149558</td>\n",
       "      <td>0.227916</td>\n",
       "      <td>0.436820</td>\n",
       "    </tr>\n",
       "    <tr>\n",
       "      <th>2</th>\n",
       "      <td>0.02</td>\n",
       "      <td>0.98</td>\n",
       "      <td>0.149416</td>\n",
       "      <td>0.226041</td>\n",
       "      <td>0.439814</td>\n",
       "    </tr>\n",
       "    <tr>\n",
       "      <th>3</th>\n",
       "      <td>0.03</td>\n",
       "      <td>0.97</td>\n",
       "      <td>0.149274</td>\n",
       "      <td>0.224176</td>\n",
       "      <td>0.442839</td>\n",
       "    </tr>\n",
       "    <tr>\n",
       "      <th>4</th>\n",
       "      <td>0.04</td>\n",
       "      <td>0.96</td>\n",
       "      <td>0.149132</td>\n",
       "      <td>0.222322</td>\n",
       "      <td>0.445894</td>\n",
       "    </tr>\n",
       "  </tbody>\n",
       "</table>\n",
       "</div>"
      ],
      "text/plain": [
       "      w   1-w     Media       vol        RS\n",
       "0  0.00  1.00  0.149700  0.229800  0.433856\n",
       "1  0.01  0.99  0.149558  0.227916  0.436820\n",
       "2  0.02  0.98  0.149416  0.226041  0.439814\n",
       "3  0.03  0.97  0.149274  0.224176  0.442839\n",
       "4  0.04  0.96  0.149132  0.222322  0.445894"
      ]
     },
     "execution_count": 8,
     "metadata": {},
     "output_type": "execute_result"
    }
   ],
   "source": [
    "# DataFrame de portafolios: \n",
    "# 1. Índice: i\n",
    "# 2. Columnas 1-2: w, 1-w\n",
    "# 3. Columnas 3-4: E[r], sigma\n",
    "# 4. Columna 5: Sharpe ratio\n",
    "portafolios= pd.DataFrame(index=range(n),\n",
    "                         data={'w':w,\n",
    "                              '1-w': 1-w,#w_2\n",
    "                              'Media': w*E1+(1-w)*E2,\n",
    "                              'vol':np.sqrt((w*s1)**2+2*w*(1-w)*r12*s1*s2+((1-w)*s2)**2)})\n",
    "portafolios['RS']=((portafolios['Media']-rf)/portafolios['vol'])\n",
    "portafolios.head()"
   ]
  },
  {
   "cell_type": "code",
   "execution_count": 9,
   "metadata": {},
   "outputs": [
    {
     "data": {
      "text/html": [
       "<div>\n",
       "<style scoped>\n",
       "    .dataframe tbody tr th:only-of-type {\n",
       "        vertical-align: middle;\n",
       "    }\n",
       "\n",
       "    .dataframe tbody tr th {\n",
       "        vertical-align: top;\n",
       "    }\n",
       "\n",
       "    .dataframe thead th {\n",
       "        text-align: right;\n",
       "    }\n",
       "</style>\n",
       "<table border=\"1\" class=\"dataframe\">\n",
       "  <thead>\n",
       "    <tr style=\"text-align: right;\">\n",
       "      <th></th>\n",
       "      <th>w</th>\n",
       "      <th>1-w</th>\n",
       "      <th>Media</th>\n",
       "      <th>vol</th>\n",
       "      <th>RS</th>\n",
       "    </tr>\n",
       "  </thead>\n",
       "  <tbody>\n",
       "    <tr>\n",
       "      <th>96</th>\n",
       "      <td>0.96</td>\n",
       "      <td>0.04</td>\n",
       "      <td>0.136068</td>\n",
       "      <td>0.150070</td>\n",
       "      <td>0.573521</td>\n",
       "    </tr>\n",
       "    <tr>\n",
       "      <th>97</th>\n",
       "      <td>0.97</td>\n",
       "      <td>0.03</td>\n",
       "      <td>0.135926</td>\n",
       "      <td>0.150877</td>\n",
       "      <td>0.569509</td>\n",
       "    </tr>\n",
       "    <tr>\n",
       "      <th>98</th>\n",
       "      <td>0.98</td>\n",
       "      <td>0.02</td>\n",
       "      <td>0.135784</td>\n",
       "      <td>0.151719</td>\n",
       "      <td>0.565415</td>\n",
       "    </tr>\n",
       "    <tr>\n",
       "      <th>99</th>\n",
       "      <td>0.99</td>\n",
       "      <td>0.01</td>\n",
       "      <td>0.135642</td>\n",
       "      <td>0.152593</td>\n",
       "      <td>0.561244</td>\n",
       "    </tr>\n",
       "    <tr>\n",
       "      <th>100</th>\n",
       "      <td>1.00</td>\n",
       "      <td>0.00</td>\n",
       "      <td>0.135500</td>\n",
       "      <td>0.153500</td>\n",
       "      <td>0.557003</td>\n",
       "    </tr>\n",
       "  </tbody>\n",
       "</table>\n",
       "</div>"
      ],
      "text/plain": [
       "        w   1-w     Media       vol        RS\n",
       "96   0.96  0.04  0.136068  0.150070  0.573521\n",
       "97   0.97  0.03  0.135926  0.150877  0.569509\n",
       "98   0.98  0.02  0.135784  0.151719  0.565415\n",
       "99   0.99  0.01  0.135642  0.152593  0.561244\n",
       "100  1.00  0.00  0.135500  0.153500  0.557003"
      ]
     },
     "execution_count": 9,
     "metadata": {},
     "output_type": "execute_result"
    }
   ],
   "source": [
    "portafolios.tail()"
   ]
  },
  {
   "cell_type": "code",
   "execution_count": 10,
   "metadata": {},
   "outputs": [],
   "source": [
    "# Importar librerías de gráficos\n",
    "import matplotlib.pyplot as plt \n",
    "%matplotlib inline "
   ]
  },
  {
   "cell_type": "code",
   "execution_count": 23,
   "metadata": {},
   "outputs": [
    {
     "data": {
      "image/png": "[encoded data removed]",
      "text/plain": [
       "<Figure size 360x288 with 2 Axes>"
      ]
     },
     "metadata": {
      "needs_background": "light"
     },
     "output_type": "display_data"
    }
   ],
   "source": [
    "# Gráfica de dispersión de puntos coloreando \n",
    "# de acuerdo a SR\n",
    "plt.figure(figsize=(5,4))\n",
    "plt.scatter(portafolios['vol'], portafolios['Media'], c=portafolios['RS'],cmap='autumn')\n",
    "plt.xlabel('Volatilidad ')\n",
    "plt.ylabel('Media')\n",
    "plt.grid()\n",
    "plt.colorbar()\n",
    "plt.show()"
   ]
  },
  {
   "cell_type": "markdown",
   "metadata": {},
   "source": [
    "#### 2. Encontrar el portafolio que maximiza el radio de Sharpe (EMV)"
   ]
  },
  {
   "cell_type": "markdown",
   "metadata": {},
   "source": [
    "Primero, encontramos este portafolio con la fórmula que obtuvimos:"
   ]
  },
  {
   "cell_type": "code",
   "execution_count": 36,
   "metadata": {},
   "outputs": [
    {
     "data": {
      "text/plain": [
       "(0.6983139170512034,\n",
       " 0.3016860829487966,\n",
       " 0.13978394237787292,\n",
       " 0.14231708951606933,\n",
       " 0.6308725303698346)"
      ]
     },
     "execution_count": 36,
     "metadata": {},
     "output_type": "execute_result"
    }
   ],
   "source": [
    "# Fórmula que obtuvimos\n",
    "s12=r12*s1*s2\n",
    "wEMV= ((E1-rf)*s2**2-(E2-rf)*s12)/((E2-rf)*s1**2+(E1-rf)*s2**2-(((E1-rf)+(E2-rf))*s12))\n",
    "EEMV= wEMV*E1+(1-wEMV)*E2\n",
    "#np.sqrt((w*s1)**2+2*w*(1-w)*r12*s1*s2+((1-w)*s2)**2)\n",
    "sEMV= ((wEMV*s1)**2+2*wEMV*(1-wEMV)*s12+((1-wEMV)*s2)**2)**0.5\n",
    "RSmax= (EEMV-rf)/sEMV\n",
    "wEMV, 1-wEMV,EEMV,sEMV,RSmax"
   ]
  },
  {
   "cell_type": "markdown",
   "metadata": {},
   "source": [
    "Ahora sí, con la función scipy.optimize.minimize"
   ]
  },
  {
   "cell_type": "code",
   "execution_count": 25,
   "metadata": {},
   "outputs": [],
   "source": [
    "# Importar el módulo optimize\n",
    "import scipy.optimize as opt"
   ]
  },
  {
   "cell_type": "code",
   "execution_count": 32,
   "metadata": {},
   "outputs": [],
   "source": [
    "## Construcción de parámetros\n",
    "## Activo 1: EU, Activo 2: Japon\n",
    "# 1. Sigma: matriz de varianza-covarianza\n",
    "Sigma=np.array([[s1**2,r12*s1*s2],\n",
    "              [r12*s1*s2,s2**2]])\n",
    "# 2. Eind: rendimientos esperados activos individuales\n",
    "Eind= np.array([E1,E2])"
   ]
  },
  {
   "cell_type": "markdown",
   "metadata": {},
   "source": [
    "La librería de optimize no puede obtener máximos, sólo calcula mínimos. Por lo tanto debemos obtener el mínimo del negativo de nuestra función objetivo."
   ]
  },
  {
   "cell_type": "code",
   "execution_count": 44,
   "metadata": {},
   "outputs": [],
   "source": [
    "# Función objetivo (-SR)\n",
    "def minus_RS(w, Eind, Sigma,rf):\n",
    "    Ep= Eind.dot(w)\n",
    "    sp= ((w.dot(Sigma)).dot(w))**0.5\n",
    "    return (rf-Ep)/sp"
   ]
  },
  {
   "cell_type": "code",
   "execution_count": 48,
   "metadata": {},
   "outputs": [],
   "source": [
    "# Cantidad de activos \n",
    "N= len(Eind)\n",
    "# Dato inicial\n",
    "w0= np.ones((2,))/N\n",
    "# Cotas de las variables\n",
    "bnds= ((0,1),)*N\n",
    "#bnds = ((0,1),(0,1))#\n",
    "# Restricciones\n",
    "cons= {'type':'eq','fun':lambda w:w.sum()-1}"
   ]
  },
  {
   "cell_type": "code",
   "execution_count": 49,
   "metadata": {},
   "outputs": [
    {
     "data": {
      "text/plain": [
       "     fun: -0.6308725303331167\n",
       "     jac: array([-0.35171176, -0.35029621])\n",
       " message: 'Optimization terminated successfully.'\n",
       "    nfev: 17\n",
       "     nit: 4\n",
       "    njev: 4\n",
       "  status: 0\n",
       " success: True\n",
       "       x: array([0.69830749, 0.30169251])"
      ]
     },
     "execution_count": 49,
     "metadata": {},
     "output_type": "execute_result"
    }
   ],
   "source": [
    "# Optimización numérica\n",
    "EMV= opt.minimize(minus_RS, \n",
    "                  x0=w0,\n",
    "                  args=(Eind,Sigma,rf),\n",
    "                  bounds= bnds, \n",
    "                  constraints=cons)\n",
    "# Resultado\n",
    "EMV"
   ]
  },
  {
   "cell_type": "markdown",
   "metadata": {},
   "source": [
    "Con lo anterior, podemos obtener datos de rendimiento esperado y volatilidad del portafolio EMV\n",
    "\n",
    "Debemos invertir 69.8% en EU y 30.16% en Japon"
   ]
  },
  {
   "cell_type": "code",
   "execution_count": 51,
   "metadata": {},
   "outputs": [
    {
     "data": {
      "text/plain": [
       "(0.1397840336419269, 0.14231723418757614, 0.6308725303331167)"
      ]
     },
     "execution_count": 51,
     "metadata": {},
     "output_type": "execute_result"
    }
   ],
   "source": [
    "# Rendimiento esperado y volatilidad del portafolio EMV\n",
    "wEMV2 = EMV.x\n",
    "Ep = Eind.dot(wEMV2)\n",
    "sp= (wEMV2.dot(Sigma).dot(wEMV2))**0.5\n",
    "RSmax= (Ep-rf)/sp\n",
    "Ep, sp, RSmax"
   ]
  },
  {
   "cell_type": "code",
   "execution_count": 56,
   "metadata": {},
   "outputs": [
    {
     "data": {
      "image/png": "[encoded data removed]",
      "text/plain": [
       "<Figure size 360x288 with 2 Axes>"
      ]
     },
     "metadata": {
      "needs_background": "light"
     },
     "output_type": "display_data"
    }
   ],
   "source": [
    "# Gráfica de dispersión de puntos coloreando \n",
    "# de acuerdo a SR, y portafolio EMV\n",
    "plt.figure(figsize=(5,4))\n",
    "plt.scatter(portafolios['vol'], portafolios['Media'], c=portafolios['RS'],cmap='autumn')\n",
    "plt.plot(sp, Ep, 'ok')\n",
    "plt.xlabel('Volatilidad ')\n",
    "plt.ylabel('Rendimiento esperado $E[r]$')\n",
    "plt.axis([0.14, 0.18, 0.135, 0.145])\n",
    "plt.grid()\n",
    "plt.colorbar()\n",
    "plt.show()"
   ]
  },
  {
   "cell_type": "markdown",
   "metadata": {},
   "source": [
    "#### 3. Construir LAC"
   ]
  },
  {
   "cell_type": "markdown",
   "metadata": {},
   "source": [
    "Ahora, dibujamos la LAC, combinando el portafolio EMV con el activo libre de riesgo:"
   ]
  },
  {
   "cell_type": "code",
   "execution_count": 57,
   "metadata": {},
   "outputs": [],
   "source": [
    "# Vector de wp variando entre 0 y 1.5 con n pasos\n",
    "wp = np.linspace(0,1.5, 50)"
   ]
  },
  {
   "cell_type": "code",
   "execution_count": 59,
   "metadata": {},
   "outputs": [
    {
     "data": {
      "text/html": [
       "<div>\n",
       "<style scoped>\n",
       "    .dataframe tbody tr th:only-of-type {\n",
       "        vertical-align: middle;\n",
       "    }\n",
       "\n",
       "    .dataframe tbody tr th {\n",
       "        vertical-align: top;\n",
       "    }\n",
       "\n",
       "    .dataframe thead th {\n",
       "        text-align: right;\n",
       "    }\n",
       "</style>\n",
       "<table border=\"1\" class=\"dataframe\">\n",
       "  <thead>\n",
       "    <tr style=\"text-align: right;\">\n",
       "      <th></th>\n",
       "      <th>wp</th>\n",
       "      <th>wrf</th>\n",
       "      <th>Media</th>\n",
       "      <th>vol</th>\n",
       "      <th>RS</th>\n",
       "    </tr>\n",
       "  </thead>\n",
       "  <tbody>\n",
       "    <tr>\n",
       "      <th>0</th>\n",
       "      <td>0.000000</td>\n",
       "      <td>1.000000</td>\n",
       "      <td>0.050000</td>\n",
       "      <td>0.000000</td>\n",
       "      <td>NaN</td>\n",
       "    </tr>\n",
       "    <tr>\n",
       "      <th>1</th>\n",
       "      <td>0.030612</td>\n",
       "      <td>0.969388</td>\n",
       "      <td>0.052748</td>\n",
       "      <td>0.004357</td>\n",
       "      <td>0.630873</td>\n",
       "    </tr>\n",
       "    <tr>\n",
       "      <th>2</th>\n",
       "      <td>0.061224</td>\n",
       "      <td>0.938776</td>\n",
       "      <td>0.055497</td>\n",
       "      <td>0.008713</td>\n",
       "      <td>0.630873</td>\n",
       "    </tr>\n",
       "    <tr>\n",
       "      <th>3</th>\n",
       "      <td>0.091837</td>\n",
       "      <td>0.908163</td>\n",
       "      <td>0.058245</td>\n",
       "      <td>0.013070</td>\n",
       "      <td>0.630873</td>\n",
       "    </tr>\n",
       "    <tr>\n",
       "      <th>4</th>\n",
       "      <td>0.122449</td>\n",
       "      <td>0.877551</td>\n",
       "      <td>0.060994</td>\n",
       "      <td>0.017427</td>\n",
       "      <td>0.630873</td>\n",
       "    </tr>\n",
       "  </tbody>\n",
       "</table>\n",
       "</div>"
      ],
      "text/plain": [
       "         wp       wrf     Media       vol        RS\n",
       "0  0.000000  1.000000  0.050000  0.000000       NaN\n",
       "1  0.030612  0.969388  0.052748  0.004357  0.630873\n",
       "2  0.061224  0.938776  0.055497  0.008713  0.630873\n",
       "3  0.091837  0.908163  0.058245  0.013070  0.630873\n",
       "4  0.122449  0.877551  0.060994  0.017427  0.630873"
      ]
     },
     "execution_count": 59,
     "metadata": {},
     "output_type": "execute_result"
    }
   ],
   "source": [
    "# DataFrame de CAL: \n",
    "# 1. Índice: i\n",
    "# 2. Columnas 1-2: wp, wrf\n",
    "# 3. Columnas 3-4: E[r], sigma\n",
    "# 4. Columna 5: Sharpe ratio\n",
    "LAC= pd.DataFrame(index= range(len(wp)),\n",
    "                 data={'wp': wp,\n",
    "                      'wrf': 1-wp,\n",
    "                      'Media': wp*Ep+(1-wp)*rf,\n",
    "                      'vol': wp*sp})\n",
    "LAC['RS']=(LAC['Media']-rf)/LAC['vol']\n",
    "LAC.head()"
   ]
  },
  {
   "cell_type": "code",
   "execution_count": 60,
   "metadata": {},
   "outputs": [
    {
     "data": {
      "text/html": [
       "<div>\n",
       "<style scoped>\n",
       "    .dataframe tbody tr th:only-of-type {\n",
       "        vertical-align: middle;\n",
       "    }\n",
       "\n",
       "    .dataframe tbody tr th {\n",
       "        vertical-align: top;\n",
       "    }\n",
       "\n",
       "    .dataframe thead th {\n",
       "        text-align: right;\n",
       "    }\n",
       "</style>\n",
       "<table border=\"1\" class=\"dataframe\">\n",
       "  <thead>\n",
       "    <tr style=\"text-align: right;\">\n",
       "      <th></th>\n",
       "      <th>wp</th>\n",
       "      <th>wrf</th>\n",
       "      <th>Media</th>\n",
       "      <th>vol</th>\n",
       "      <th>RS</th>\n",
       "    </tr>\n",
       "  </thead>\n",
       "  <tbody>\n",
       "    <tr>\n",
       "      <th>45</th>\n",
       "      <td>1.377551</td>\n",
       "      <td>-0.377551</td>\n",
       "      <td>0.173682</td>\n",
       "      <td>0.196049</td>\n",
       "      <td>0.630873</td>\n",
       "    </tr>\n",
       "    <tr>\n",
       "      <th>46</th>\n",
       "      <td>1.408163</td>\n",
       "      <td>-0.408163</td>\n",
       "      <td>0.176431</td>\n",
       "      <td>0.200406</td>\n",
       "      <td>0.630873</td>\n",
       "    </tr>\n",
       "    <tr>\n",
       "      <th>47</th>\n",
       "      <td>1.438776</td>\n",
       "      <td>-0.438776</td>\n",
       "      <td>0.179179</td>\n",
       "      <td>0.204763</td>\n",
       "      <td>0.630873</td>\n",
       "    </tr>\n",
       "    <tr>\n",
       "      <th>48</th>\n",
       "      <td>1.469388</td>\n",
       "      <td>-0.469388</td>\n",
       "      <td>0.181928</td>\n",
       "      <td>0.209119</td>\n",
       "      <td>0.630873</td>\n",
       "    </tr>\n",
       "    <tr>\n",
       "      <th>49</th>\n",
       "      <td>1.500000</td>\n",
       "      <td>-0.500000</td>\n",
       "      <td>0.184676</td>\n",
       "      <td>0.213476</td>\n",
       "      <td>0.630873</td>\n",
       "    </tr>\n",
       "  </tbody>\n",
       "</table>\n",
       "</div>"
      ],
      "text/plain": [
       "          wp       wrf     Media       vol        RS\n",
       "45  1.377551 -0.377551  0.173682  0.196049  0.630873\n",
       "46  1.408163 -0.408163  0.176431  0.200406  0.630873\n",
       "47  1.438776 -0.438776  0.179179  0.204763  0.630873\n",
       "48  1.469388 -0.469388  0.181928  0.209119  0.630873\n",
       "49  1.500000 -0.500000  0.184676  0.213476  0.630873"
      ]
     },
     "execution_count": 60,
     "metadata": {},
     "output_type": "execute_result"
    }
   ],
   "source": [
    "LAC.tail()"
   ]
  },
  {
   "cell_type": "code",
   "execution_count": 63,
   "metadata": {},
   "outputs": [
    {
     "data": {
      "image/png": "[encoded data removed]",
      "text/plain": [
       "<Figure size 360x288 with 2 Axes>"
      ]
     },
     "metadata": {
      "needs_background": "light"
     },
     "output_type": "display_data"
    }
   ],
   "source": [
    "# Gráfica de dispersión de puntos coloreando \n",
    "# de acuerdo a SR, portafolio EMV y LAC\n",
    "plt.figure(figsize=(5,4))\n",
    "plt.scatter(portafolios['vol'], portafolios['Media'], c=portafolios['RS'],cmap='autumn')\n",
    "plt.plot(sp, Ep, 'ok')\n",
    "plt.plot(LAC['vol'],LAC['Media'], 'b-')\n",
    "plt.xlabel('Volatilidad ')\n",
    "plt.ylabel('Rendimiento esperado $E[r]$')\n",
    "#plt.axis([0.10, 0.18, 0.135, 0.145])\n",
    "plt.grid()\n",
    "plt.colorbar()\n",
    "plt.show()"
   ]
  },
  {
   "cell_type": "markdown",
   "metadata": {},
   "source": [
    "#### 4. Combinación óptima de acuerdo a preferencias\n",
    "\n",
    "Con los datos anteriores, y la caracterización de aversión al riesgo, se escoge la combinación óptima entre el portafolio EMV y el activo libre de riesgo de acuerdo a:\n",
    "\n",
    "$$w^\\ast=\\frac{E[r_s-r_f]}{\\gamma\\sigma_s^2}.$$"
   ]
  },
  {
   "cell_type": "code",
   "execution_count": 65,
   "metadata": {},
   "outputs": [
    {
     "data": {
      "text/plain": [
       "0.6332658704683628"
      ]
     },
     "execution_count": 65,
     "metadata": {},
     "output_type": "execute_result"
    }
   ],
   "source": [
    "# Para gamma=7\n",
    "gamma=7\n",
    "w_opt= (Ep-rf)/(gamma*sp**2)\n",
    "w_opt"
   ]
  },
  {
   "cell_type": "code",
   "execution_count": 66,
   "metadata": {},
   "outputs": [
    {
     "data": {
      "text/plain": [
       "(0.3667341295316372, array([0.4422143 , 0.19105157]))"
      ]
     },
     "execution_count": 66,
     "metadata": {},
     "output_type": "execute_result"
    }
   ],
   "source": [
    "1-w_opt, w_opt*wEMV2"
   ]
  },
  {
   "cell_type": "markdown",
   "metadata": {},
   "source": [
    "Con esto decidimos nuestra posición dentro de la linea LAC. Debemos invertir 1-w_opt en el activo libre de riesgo. \n",
    "\n",
    "En este caso debemos de invertir 36.7% en los activos libres de riesgo y el resto en los activos del portafolio; 44.22% y 19.1% en EU y Japon respectivamente "
   ]
  },
  {
   "cell_type": "markdown",
   "metadata": {},
   "source": [
    "<script>\n",
    "  $(document).ready(function(){\n",
    "    $('div.prompt').hide();\n",
    "    $('div.back-to-top').hide();\n",
    "    $('nav#menubar').hide();\n",
    "    $('.breadcrumb').hide();\n",
    "    $('.hidden-print').hide();\n",
    "  });\n",
    "</script>\n",
    "\n",
    "<footer id=\"attribution\" style=\"float:right; color:#808080; background:#fff;\">\n",
    "Created with Jupyter by Esteban Jiménez Rodríguez.\n",
    "</footer>"
   ]
  }
 ],
 "metadata": {
  "kernelspec": {
   "display_name": "Python 3",
   "language": "python",
   "name": "python3"
  },
  "language_info": {
   "codemirror_mode": {
    "name": "ipython",
    "version": 3
   },
   "file_extension": ".py",
   "mimetype": "text/x-python",
   "name": "python",
   "nbconvert_exporter": "python",
   "pygments_lexer": "ipython3",
   "version": "3.7.3"
  }
 },
 "nbformat": 4,
 "nbformat_minor": 2
}
