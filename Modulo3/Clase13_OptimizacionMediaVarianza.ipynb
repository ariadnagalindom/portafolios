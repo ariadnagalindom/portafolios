{
 "cells": [
  {
   "cell_type": "markdown",
   "metadata": {},
   "source": [
    "# Optimización media-varianza\n",
    "\n",
    "<img style=\"float: right; margin: 0px 0px 15px 15px;\" src=\"https://upload.wikimedia.org/wikipedia/commons/d/da/Newton_optimization_vs_grad_descent.svg\" width=\"400px\" height=\"400px\" />\n",
    "\n",
    "\n",
    "La **teoría de portafolios** es una de los avances más importantes en las finanzas modernas e inversiones.\n",
    "- Apareció por primera vez en un [artículo corto](https://www.math.ust.hk/~maykwok/courses/ma362/07F/markowitz_JF.pdf) llamado \"Portfolio Selection\" en la edición de Marzo de 1952 de \"the Journal of Finance\".\n",
    "- Escrito por un desconocido estudiante de la Universidad de Chicago, llamado Harry Markowitz.\n",
    "- Escrito corto (sólo 14 páginas), poco texto, fácil de entender, muchas gráficas y unas cuantas referencias.\n",
    "- No se le prestó mucha atención hasta los 60s.\n",
    "\n",
    "Finalmente, este trabajo se convirtió en una de las más grandes ideas en finanzas, y le dió a Markowitz el Premio Nobel casi 40 años después.\n",
    "- Markowitz estaba incidentalmente interesado en los mercados de acciones e inversiones.\n",
    "- Estaba más bien interesado en entender cómo las personas tomaban sus mejores decisiones cuando se enfrentaban con \"trade-offs\".\n",
    "- Principio de conservación de la miseria. O, dirían los instructores de gimnasio: \"no pain, no gain\".\n",
    "- Si queremos más de algo, tenemos que perder en algún otro lado.\n",
    "- El estudio de este fenómeno era el que le atraía a Markowitz.\n",
    "\n",
    "De manera que nadie se hace rico poniendo todo su dinero en la cuenta de ahorros. La única manera de esperar altos rendimientos es si se toma bastante riesgo. Sin embargo, riesgo significa también la posibilidad de perder, tanto como ganar.\n",
    "\n",
    "Pero, ¿qué tanto riesgo es necesario?, y ¿hay alguna manera de minimizar el riesgo mientras se maximizan las ganancias?\n",
    "- Markowitz básicamente cambió la manera en que los inversionistas pensamos acerca de esas preguntas.\n",
    "- Alteró completamente la práctica de la administración de inversiones.\n",
    "- Incluso el título de su artículo era innovador. Portafolio: una colección de activos en lugar de tener activos individuales.\n",
    "- En ese tiempo, un portafolio se refería a una carpeta de piel.\n",
    "- En el resto de este módulo, nos ocuparemos de la parte analítica de la teoría de portafolios, la cual puede ser resumida en dos frases:\n",
    " - No pain, no gain.\n",
    " - No ponga todo el blanquillo en una sola bolsa.\n",
    " \n",
    "\n",
    "**Objetivos:**\n",
    "- ¿Qué es la línea de asignación de capital?\n",
    "- ¿Qué es el radio de Sharpe?\n",
    "- ¿Cómo deberíamos asignar nuestro capital entre un activo riesgoso y un activo libre de riesgo?\n",
    "\n",
    "*Referencia:*\n",
    "- Notas del curso \"Portfolio Selection and Risk Management\", Rice University, disponible en Coursera.\n",
    "___ "
   ]
  },
  {
   "cell_type": "markdown",
   "metadata": {},
   "source": [
    "## 1. Línea de asignación de capital\n",
    "\n",
    "### 1.1. Motivación\n",
    "\n",
    "El proceso de construcción de un portafolio tiene entonces los siguientes dos pasos:\n",
    "1. Escoger un portafolio de activos riesgosos.(el mejor)\n",
    "2. Decidir qué tanto de tu riqueza invertirás en el portafolio y qué tanto invertirás en activos libres de riesgo.\n",
    "\n",
    "Al paso 2 lo llamamos **decisión de asignación de activos**."
   ]
  },
  {
   "cell_type": "markdown",
   "metadata": {},
   "source": [
    "Preguntas importantes:\n",
    "1. ¿Qué es el portafolio óptimo de activos riesgosos?\n",
    " - ¿Cuál es el mejor portafolio de activos riesgosos?\n",
    " - Es un portafolio eficiente en media-varianza.\n",
    "2. ¿Qué es la distribución óptima de activos?\n",
    " - ¿Cómo deberíamos distribuir nuestra riqueza entre el portafolo riesgoso óptimo y el activo libre de riesgo?\n",
    " - Concepto de **línea de asignación de capital**.\n",
    " - Concepto de **radio de Sharpe**."
   ]
  },
  {
   "cell_type": "markdown",
   "metadata": {},
   "source": [
    "Dos suposiciones importantes:\n",
    "- Funciones de utilidad media-varianza.\n",
    "- Inversionista averso al riesgo."
   ]
  },
  {
   "cell_type": "markdown",
   "metadata": {},
   "source": [
    "La idea sorprendente que saldrá de este análisis, es que cualquiera que sea la actitud del inversionista de cara al riesgo, el mejor portafolio de activos riesgosos es idéntico para todos los inversionistas.\n",
    "\n",
    "Lo que nos importará a cada uno de nosotros en particular, es simplemente la desición óptima de asignación de activos.\n",
    "___"
   ]
  },
  {
   "cell_type": "markdown",
   "metadata": {},
   "source": [
    "### 1.2. Línea de asignación de capital"
   ]
  },
  {
   "cell_type": "markdown",
   "metadata": {},
   "source": [
    "Sean:\n",
    "- $r_s$ el rendimiento del activo riesgoso,\n",
    "- $r_f$ el rendimiento libre de riesgo, y\n",
    "- $w$ la fracción invertida en el activo riesgoso.\n",
    "\n",
    "<font color=blue> Realizar deducción de la línea de asignación de capital en el tablero.</font>"
   ]
  },
  {
   "cell_type": "markdown",
   "metadata": {},
   "source": [
    "**Tres doritos después...**"
   ]
  },
  {
   "cell_type": "markdown",
   "metadata": {},
   "source": [
    "#### Línea de asignación de capital (LAC):\n",
    "$E[r_p]$ se relaciona con $\\sigma_p$ de manera afín. Es decir, mediante la ecuación de una recta:\n",
    "\n",
    "$$E[r_p]=r_f+\\frac{E[r_s-r_f]}{\\sigma_s}\\sigma_p.$$\n",
    "\n",
    "- La pendiente de la LAC es el radio de Sharpe $\\frac{E[r_s-r_f]}{\\sigma_s}=\\frac{E[r_s]-r_f}{\\sigma_s}$,\n",
    "- el cual nos dice qué tanto rendimiento obtenemos por unidad de riesgo asumido en la tenencia del activo (portafolio) riesgoso."
   ]
  },
  {
   "cell_type": "markdown",
   "metadata": {},
   "source": [
    "Ahora, la pregunta es, ¿dónde sobre esta línea queremos estar?\n",
    "___"
   ]
  },
  {
   "cell_type": "markdown",
   "metadata": {},
   "source": [
    "### 1.3. Resolviendo para la asignación óptima de capital\n",
    "\n",
    "Recapitulando de la clase pasada, tenemos las curvas de indiferencia: **queremos estar en la curva de indiferencia más alta posible, que sea tangente a la LAC**.\n",
    "\n",
    "<font color=blue> Ver en el tablero.</font>"
   ]
  },
  {
   "cell_type": "markdown",
   "metadata": {},
   "source": [
    "Analíticamente, el problema es\n",
    "\n",
    "$$\\max_{w} \\quad E[U(r_p)]\\equiv\\max_{w} \\quad E[r_p]-\\frac{1}{2}\\gamma\\sigma_p^2,$$\n",
    "\n",
    "donde los puntos $(\\sigma_p,E[r_p])$ se restringen a estar en la LAC, esto es $E[r_p]=r_f+\\frac{E[r_s-r_f]}{\\sigma_s}\\sigma_p$ y $\\sigma_p=w\\sigma_s$. Entonces el problema anterior se puede escribir de la siguiente manera:\n",
    "\n",
    "$$\\max_{w} \\quad r_f+wE[r_s-r_f]-\\frac{1}{2}\\gamma w^2\\sigma_s^2.$$\n",
    "\n",
    "<font color=blue> Encontrar la $w$ que maximiza la anterior expresión en el tablero.</font>"
   ]
  },
  {
   "cell_type": "markdown",
   "metadata": {},
   "source": [
    "**Tres doritos después...**"
   ]
  },
  {
   "cell_type": "markdown",
   "metadata": {},
   "source": [
    "La solución es entonces:\n",
    "\n",
    "$$w^\\ast=\\frac{E[r_s-r_f]}{\\gamma\\sigma_s^2}.$$\n",
    "\n",
    "De manera intuitiva:\n",
    "- $w^\\ast\\propto E[r_s-r_f]$: a más exceso de rendimiento que se obtenga del activo riesgoso, más querremos invertir en él.\n",
    "- $w^\\ast\\propto \\frac{1}{\\gamma}$: mientras más averso al riesgo seas, menos querrás invertir en el activo riesgoso.\n",
    "- $w^\\ast\\propto \\frac{1}{\\sigma_s^2}$: mientras más riesgoso sea el activo, menos querrás invertir en él.\n",
    "___"
   ]
  },
  {
   "cell_type": "markdown",
   "metadata": {},
   "source": [
    "## 2. Ejemplo de asignación óptima de capital: acciones y billetes de EU"
   ]
  },
  {
   "cell_type": "markdown",
   "metadata": {},
   "source": [
    "Pongamos algunos números con algunos datos, para ilustrar la derivación que acabamos de hacer.\n",
    "\n",
    "En este caso, consideraremos:\n",
    "- **Portafolio riesgoso**: mercado de acciones de EU (representados en algún índice de mercado como el S&P500).\n",
    "- **Activo libre de riesgo**: billetes del departamento de tesorería de EU (T-bills).\n",
    "\n",
    "Tenemos los siguientes datos:\n",
    "\n",
    "$$E[r_{US}]=11.9\\%,\\quad \\sigma_{US}=19.15\\%, \\quad r_f=1\\%.$$"
   ]
  },
  {
   "cell_type": "markdown",
   "metadata": {},
   "source": [
    "Recordamos que podemos escribir la expresión de la LAC como:\n",
    "\n",
    "\\begin{align}\n",
    "E[r_p]&=r_f+\\left[\\frac{E[r_{US}-r_f]}{\\sigma_{US}}\\right]\\sigma_p\\\\\n",
    "      &=0.01+\\text{S.R.}\\sigma_p,\n",
    "\\end{align}\n",
    "\n",
    "donde $\\text{S.R}=\\frac{0.119-0.01}{0.1915}\\approx0.569$ es el radio de Sharpe (¿qué es lo que es esto?).\n",
    "\n",
    "Grafiquemos la LAC con estos datos reales:"
   ]
  },
  {
   "cell_type": "code",
   "execution_count": 1,
   "metadata": {},
   "outputs": [],
   "source": [
    "# Importamos librerías que vamos a utilizar\n",
    "import matplotlib.pyplot as plt\n",
    "import numpy as np\n",
    "%matplotlib inline"
   ]
  },
  {
   "cell_type": "code",
   "execution_count": 11,
   "metadata": {},
   "outputs": [],
   "source": [
    "# Datos\n",
    "Ers= 0.119\n",
    "ss=0.1915\n",
    "rf=0.01\n",
    "# Radio de Sharpe para este activo\n",
    "RS= (Ers-rf)/ss\n",
    "# Vector de volatilidades del portafolio (sugerido: 0% a 50%)\n",
    "sp=np.linspace(0,0.5,100)\n",
    "# LAC\n",
    "Erp= rf+RS*sp"
   ]
  },
  {
   "cell_type": "code",
   "execution_count": 12,
   "metadata": {},
   "outputs": [
    {
     "data": {
      "image/png": "[encoded data removed]",
      "text/plain": [
       "<Figure size 576x432 with 1 Axes>"
      ]
     },
     "metadata": {
      "needs_background": "light"
     },
     "output_type": "display_data"
    }
   ],
   "source": [
    "# Gráfica\n",
    "plt.figure(figsize=(8,6))\n",
    "plt.plot(sp,Erp,lw=2,label='LAC')\n",
    "plt.plot(0,rf,'or',ms=10,label='risk free')\n",
    "plt.plot(ss,Ers,'ob',ms=10,label='Portafolio riesgoso')\n",
    "plt.xlabel('Volatilidad $\\sigma_p$')\n",
    "plt.ylabel('Rendimiento Esperado $E[r_p]$')\n",
    "plt.grid()\n",
    "plt.legend(loc='best')\n",
    "plt.show()"
   ]
  },
  {
   "cell_type": "markdown",
   "metadata": {},
   "source": [
    "Bueno, y ¿en qué punto de esta línea querríamos estar?\n",
    "- Pues ya vimos que depende de tus preferencias.\n",
    "- En particular, de tu actitud de cara al riesgo, medido por tu coeficiente de aversión al riesgo.\n",
    "\n",
    "Solución al problema de asignación óptima de capital:\n",
    "\n",
    "$$\\max_{w} \\quad E[U(r_p)]$$\n",
    "\n",
    "$$w^\\ast=\\frac{E[r_s-r_f]}{\\gamma\\sigma_s^2}$$"
   ]
  },
  {
   "cell_type": "markdown",
   "metadata": {},
   "source": [
    "Dado que ya tenemos datos, podemos intentar para varios coeficientes de aversión al riesgo:"
   ]
  },
  {
   "cell_type": "code",
   "execution_count": 8,
   "metadata": {},
   "outputs": [],
   "source": [
    "# importar pandas\n",
    "import pandas as pd"
   ]
  },
  {
   "cell_type": "code",
   "execution_count": 9,
   "metadata": {},
   "outputs": [
    {
     "data": {
      "text/html": [
       "<div>\n",
       "<style scoped>\n",
       "    .dataframe tbody tr th:only-of-type {\n",
       "        vertical-align: middle;\n",
       "    }\n",
       "\n",
       "    .dataframe tbody tr th {\n",
       "        vertical-align: top;\n",
       "    }\n",
       "\n",
       "    .dataframe thead th {\n",
       "        text-align: right;\n",
       "    }\n",
       "</style>\n",
       "<table border=\"1\" class=\"dataframe\">\n",
       "  <thead>\n",
       "    <tr style=\"text-align: right;\">\n",
       "      <th></th>\n",
       "      <th>$\\gamma$</th>\n",
       "      <th>$w^*$</th>\n",
       "    </tr>\n",
       "  </thead>\n",
       "  <tbody>\n",
       "    <tr>\n",
       "      <th>0</th>\n",
       "      <td>1.0</td>\n",
       "      <td>2.972275</td>\n",
       "    </tr>\n",
       "    <tr>\n",
       "      <th>1</th>\n",
       "      <td>2.0</td>\n",
       "      <td>1.486137</td>\n",
       "    </tr>\n",
       "    <tr>\n",
       "      <th>2</th>\n",
       "      <td>3.0</td>\n",
       "      <td>0.990758</td>\n",
       "    </tr>\n",
       "    <tr>\n",
       "      <th>3</th>\n",
       "      <td>4.0</td>\n",
       "      <td>0.743069</td>\n",
       "    </tr>\n",
       "    <tr>\n",
       "      <th>4</th>\n",
       "      <td>5.0</td>\n",
       "      <td>0.594455</td>\n",
       "    </tr>\n",
       "    <tr>\n",
       "      <th>5</th>\n",
       "      <td>6.0</td>\n",
       "      <td>0.495379</td>\n",
       "    </tr>\n",
       "    <tr>\n",
       "      <th>6</th>\n",
       "      <td>7.0</td>\n",
       "      <td>0.424611</td>\n",
       "    </tr>\n",
       "    <tr>\n",
       "      <th>7</th>\n",
       "      <td>8.0</td>\n",
       "      <td>0.371534</td>\n",
       "    </tr>\n",
       "    <tr>\n",
       "      <th>8</th>\n",
       "      <td>9.0</td>\n",
       "      <td>0.330253</td>\n",
       "    </tr>\n",
       "    <tr>\n",
       "      <th>9</th>\n",
       "      <td>10.0</td>\n",
       "      <td>0.297227</td>\n",
       "    </tr>\n",
       "  </tbody>\n",
       "</table>\n",
       "</div>"
      ],
      "text/plain": [
       "   $\\gamma$     $w^*$\n",
       "0       1.0  2.972275\n",
       "1       2.0  1.486137\n",
       "2       3.0  0.990758\n",
       "3       4.0  0.743069\n",
       "4       5.0  0.594455\n",
       "5       6.0  0.495379\n",
       "6       7.0  0.424611\n",
       "7       8.0  0.371534\n",
       "8       9.0  0.330253\n",
       "9      10.0  0.297227"
      ]
     },
     "execution_count": 9,
     "metadata": {},
     "output_type": "execute_result"
    }
   ],
   "source": [
    "# Crear un DataFrame con los pesos, rendimiento\n",
    "# esperado y volatilidad del portafolio óptimo \n",
    "# entre los activos riesgoso y libre de riesgo\n",
    "# cuyo índice sean los coeficientes de aversión\n",
    "# al riesgo del 1 al 10 (enteros)\n",
    "gamma=np.linspace(1,10,10)\n",
    "tabla=pd.DataFrame(data={'$\\gamma$': gamma,\n",
    "                        '$w^*$':(Ers-rf)/(gamma*ss**2)})\n",
    "tabla"
   ]
  },
  {
   "cell_type": "markdown",
   "metadata": {},
   "source": [
    "**Interpretacion**\n",
    "\n",
    "entre mas averso al riesgo menos se va a invertir en portafolios riesgosos.\n",
    "\n",
    "¿Cómo se interpreta $w^\\ast>1$?\n",
    "- Cuando $0<w^\\ast<1$, entonces $0<1-w^\\ast<1$. Lo cual implica posiciones largas en el mercado de activos y en el activo libre de riesgo.\n",
    "- Por el contrario, cuando $w^\\ast>1$, tenemos $1-w^\\ast<0$. Lo anterior implica una posición corta en el activo libre de riesgo (suponiendo que se puede) y una posición larga (de más del 100%) en el mercado de activos: apalancamiento."
   ]
  },
  {
   "cell_type": "markdown",
   "metadata": {},
   "source": [
    "# Anuncios parroquiales.\n",
    "\n",
    "## 1. Quiz la siguiente clase.\n",
    "\n",
    "## 2. Tarea 5 segunda entrega para el viernes."
   ]
  },
  {
   "cell_type": "markdown",
   "metadata": {},
   "source": [
    "<script>\n",
    "  $(document).ready(function(){\n",
    "    $('div.prompt').hide();\n",
    "    $('div.back-to-top').hide();\n",
    "    $('nav#menubar').hide();\n",
    "    $('.breadcrumb').hide();\n",
    "    $('.hidden-print').hide();\n",
    "  });\n",
    "</script>\n",
    "\n",
    "<footer id=\"attribution\" style=\"float:right; color:#808080; background:#fff;\">\n",
    "Created with Jupyter by Esteban Jiménez Rodríguez.\n",
    "</footer>"
   ]
  }
 ],
 "metadata": {
  "kernelspec": {
   "display_name": "Python 3",
   "language": "python",
   "name": "python3"
  },
  "language_info": {
   "codemirror_mode": {
    "name": "ipython",
    "version": 3
   },
   "file_extension": ".py",
   "mimetype": "text/x-python",
   "name": "python",
   "nbconvert_exporter": "python",
   "pygments_lexer": "ipython3",
   "version": "3.7.3"
  }
 },
 "nbformat": 4,
 "nbformat_minor": 2
}
