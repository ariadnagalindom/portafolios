{
 "cells": [
  {
   "cell_type": "markdown",
   "metadata": {},
   "source": [
    "**Pregunta 1**\n",
    "¿Cuál de las siguientes proposiciones es FALSA acerca de la Línea de Asignación de Capital (LAC)?\n",
    "\n",
    "**Respuesta:** La pendiente de la LAC la llamamos radio de premio a rendimiento."
   ]
  },
  {
   "cell_type": "markdown",
   "metadata": {},
   "source": [
    "**Pregunta 2**\n",
    "¿Cuál de las siguientes proposiciones es FALSA acerca de la Línea de Asignación de Capital (LAC)?\n",
    "\n",
    "**Respuesta**: \n",
    "La pendiente de la LAC la llamamos radio de premio a rendimiento."
   ]
  },
  {
   "cell_type": "code",
   "execution_count": 1,
   "metadata": {},
   "outputs": [],
   "source": [
    "# Importar numpy y pyplot\n",
    "import numpy as np\n",
    "import matplotlib.pyplot as plt\n",
    "%matplotlib  inline"
   ]
  },
  {
   "cell_type": "code",
   "execution_count": null,
   "metadata": {},
   "outputs": [],
   "source": [
    "#pregunta 4 \n"
   ]
  },
  {
   "cell_type": "code",
   "execution_count": 2,
   "metadata": {},
   "outputs": [],
   "source": [
    "# Datos\n",
    "Ers = .10\n",
    "ss = 0.15\n",
    "rf = 0.05\n",
    "# Radio de Sharpe para este activo\n",
    "sr= (Ers - rf)/ss\n",
    "# Vector de volatilidades del portafolio (sugerido: 0% a 50%)\n",
    "sp = np.linspace(0,.5,100)\n",
    "#sp=0.25\n",
    "# LAC\n",
    "Erp = rf + sr*sp"
   ]
  },
  {
   "cell_type": "code",
   "execution_count": 4,
   "metadata": {},
   "outputs": [
    {
     "data": {
      "text/plain": [
       "array([0.33333333, 0.33337159, 0.33348638, 0.33367769, 0.33394552,\n",
       "       0.33428987, 0.33471074, 0.33520814, 0.33578206, 0.33643251,\n",
       "       0.33715947, 0.33796296, 0.33884298, 0.33979951, 0.34083257,\n",
       "       0.34194215, 0.34312825, 0.34439088, 0.34573003, 0.3471457 ,\n",
       "       0.34863789, 0.35020661, 0.35185185, 0.35357361, 0.3553719 ,\n",
       "       0.35724671, 0.35919804, 0.3612259 , 0.36333027, 0.36551117,\n",
       "       0.3677686 , 0.37010254, 0.37251301, 0.375     , 0.37756351,\n",
       "       0.38020355, 0.38292011, 0.38571319, 0.3885828 , 0.39152893,\n",
       "       0.39455158, 0.39765075, 0.40082645, 0.40407867, 0.40740741,\n",
       "       0.41081267, 0.41429446, 0.41785277, 0.4214876 , 0.42519896,\n",
       "       0.42898684, 0.43285124, 0.43679216, 0.44080961, 0.44490358,\n",
       "       0.44907407, 0.45332109, 0.45764463, 0.46204469, 0.46652127,\n",
       "       0.47107438, 0.47570401, 0.48041016, 0.48519284, 0.49005204,\n",
       "       0.49498776, 0.5       , 0.50508877, 0.51025406, 0.51549587,\n",
       "       0.5208142 , 0.52620906, 0.53168044, 0.53722834, 0.54285277,\n",
       "       0.54855372, 0.55433119, 0.56018519, 0.5661157 , 0.57212274,\n",
       "       0.57820631, 0.58436639, 0.590603  , 0.59691613, 0.60330579,\n",
       "       0.60977196, 0.61631466, 0.62293388, 0.62962963, 0.6364019 ,\n",
       "       0.64325069, 0.650176  , 0.65717784, 0.6642562 , 0.67141108,\n",
       "       0.67864249, 0.68595041, 0.69333486, 0.70079584, 0.70833333])"
      ]
     },
     "execution_count": 4,
     "metadata": {},
     "output_type": "execute_result"
    }
   ],
   "source": []
  }
 ],
 "metadata": {
  "kernelspec": {
   "display_name": "Python 3",
   "language": "python",
   "name": "python3"
  },
  "language_info": {
   "codemirror_mode": {
    "name": "ipython",
    "version": 3
   },
   "file_extension": ".py",
   "mimetype": "text/x-python",
   "name": "python",
   "nbconvert_exporter": "python",
   "pygments_lexer": "ipython3",
   "version": "3.7.3"
  }
 },
 "nbformat": 4,
 "nbformat_minor": 2
}
